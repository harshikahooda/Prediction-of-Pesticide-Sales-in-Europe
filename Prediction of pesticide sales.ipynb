{
 "cells": [
  {
   "cell_type": "markdown",
   "metadata": {
    "id": "_wfgOEflSHW2"
   },
   "source": [
    "## **Prediction of Pesticide Sales in Europe using Neural Network**\n"
   ]
  },
  {
   "cell_type": "markdown",
   "metadata": {
    "id": "N8O8ajM_SHW5"
   },
   "source": [
    "## Abstract\n"
   ]
  },
  {
   "cell_type": "markdown",
   "metadata": {
    "id": "zcUtLVnDSHW6"
   },
   "source": [
    "This project is designed to study forecasting based on BigData methods through the example of pesticide sales. We will learn how to make predictions based on linear regression and two frameworks for building neural networks, as well as obtain statistics and compare results.\n"
   ]
  },
  {
   "cell_type": "markdown",
   "metadata": {
    "id": "pyLtHptUSHW7"
   },
   "source": [
    "## Introduction\n"
   ]
  },
  {
   "cell_type": "markdown",
   "metadata": {
    "id": "WSSC3LNTSHW8"
   },
   "source": [
    "Nowadays, there is a lot of open data about agriculture statistics in the world. However, few tools are presented to predict and visualize these processes.\n",
    "This project will show how to download data from open sources, perform preliminary data analysis, transform and clear data, perform correlation.\n",
    "\n",
    "Next we will consider 2 different mathematical approaches to the calculation of a forecast based on linear regression.\n",
    "\n",
    "To do this, the division of the DataSet into training and test sets will be demonstrated. It will be shown how to build models using 2 different frameworks. Then we will build a forecast and analyze the accuracy and adequacy of the obtained models.\n",
    "\n",
    "Then two different Neuro Networks will be build and fitted. We will study how to normalize and inverse normalize data. At the end we will compare all the results.\n"
   ]
  },
  {
   "cell_type": "markdown",
   "metadata": {
    "id": "UV9GBvdgSHW_"
   },
   "source": [
    "## Materials and methods\n"
   ]
  },
  {
   "cell_type": "markdown",
   "metadata": {
    "id": "PP6vYPwhSHXB"
   },
   "source": [
    "We will be learning the basic methods of forecasting using Linear Regression and Neural Networks. The project consists of three stages:\n",
    "\n",
    "*   Download and preliminary analysis of data\n",
    "*   Forecasting\n",
    "*   Artificial Neural Networks\n",
    "\n",
    "The first stage will show you how to download data and pre-prepare it for the analysis:\n",
    "\n",
    "*   downloading data\n",
    "*   changing the data types of columns\n",
    "*   grouping data\n",
    "*   DataSet transformation\n",
    "\n",
    "At the stage of forecasting, we will deal with the methods of building and fitting models, as well as with the automation of statistical information calculation, in particular:\n",
    "\n",
    "*   hypothesis creation\n",
    "*   splitting the DataSet into training and test sets\n",
    "*   creating a linear model using sklearn\n",
    "*   calculation of basic statistical indicators\n",
    "*   creating a linear model using statsmodels\n",
    "\n",
    "At the stage of Artificial Neural Networks, we will deal with the methods of building and fitting models based on Artificial Intelligence:\n",
    "\n",
    "*   creating a linear model using Scikit-learn\n",
    "*   creating a linear model using keras\n"
   ]
  },
  {
   "cell_type": "markdown",
   "metadata": {
    "id": "TvG7RdB0hTZf"
   },
   "source": [
    "The statistical data was obtained from the [https://ec.europa.eu/eurostat/databrowser/view/aact_eaa01/default/table?lang=en](https://ec.europa.eu/eurostat/databrowser/view/aact_eaa01/default/table?utm_medium=Exinfluencer&utm_source=Exinfluencer&utm_content=000026UJ&utm_term=10006555&utm_id=NA-SkillsNetwork-Channel-SkillsNetworkQuickLabsdatascienceinagricultureprognosticationusingbyneuralnetwork28167412-2021-01-01&lang=en). Eurostat has a policy of encouraging free re-use of its data, both for non-commercial and commercial purposes.\n"
   ]
  },
  {
   "cell_type": "markdown",
   "metadata": {
    "id": "szfOKw6rSHXH"
   },
   "source": [
    "## Prerequisites\n",
    "\n",
    "*   Python - basic level\n",
    "*   Pandas - basic level\n",
    "*   SeaBorn- basic level\n",
    "*   Statistics - basic level\n",
    "*   Scikit-learn - basic level\n",
    "*   Keras - basic level\n"
   ]
  },
  {
   "cell_type": "markdown",
   "metadata": {
    "id": "VCkDNaaiqSaa"
   },
   "source": [
    "## Install the required libraries\n"
   ]
  },
  {
   "cell_type": "markdown",
   "metadata": {
    "id": "jgU8ROi-qSab",
    "tags": []
   },
   "source": [
    "We need to install additional libraries and upgrade existing ones.\n"
   ]
  },
  {
   "cell_type": "code",
   "execution_count": 2,
   "metadata": {
    "colab": {
     "base_uri": "https://localhost:8080/"
    },
    "collapsed": true,
    "id": "b-LgoGFLqSad",
    "outputId": "f642c35a-d484-4db0-9eb4-cc8d966a2d07"
   },
   "outputs": [
    {
     "name": "stdout",
     "output_type": "stream",
     "text": [
      "Requirement already satisfied: scikit-learn in /Users/harshikahooda/Applications/anaconda3/lib/python3.9/site-packages (0.24.2)\n",
      "Requirement already satisfied: numpy>=1.13.3 in /Users/harshikahooda/Applications/anaconda3/lib/python3.9/site-packages (from scikit-learn) (1.20.3)\n",
      "Requirement already satisfied: threadpoolctl>=2.0.0 in /Users/harshikahooda/Applications/anaconda3/lib/python3.9/site-packages (from scikit-learn) (2.2.0)\n",
      "Requirement already satisfied: scipy>=0.19.1 in /Users/harshikahooda/Applications/anaconda3/lib/python3.9/site-packages (from scikit-learn) (1.7.1)\n",
      "Requirement already satisfied: joblib>=0.11 in /Users/harshikahooda/Applications/anaconda3/lib/python3.9/site-packages (from scikit-learn) (1.1.0)\n",
      "Note: you may need to restart the kernel to use updated packages.\n"
     ]
    }
   ],
   "source": [
    "pip install scikit-learn"
   ]
  },
  {
   "cell_type": "code",
   "execution_count": 3,
   "metadata": {
    "collapsed": true,
    "id": "oZME27YVqSag"
   },
   "outputs": [
    {
     "name": "stdout",
     "output_type": "stream",
     "text": [
      "Requirement already satisfied: pycountry in /Users/harshikahooda/Applications/anaconda3/lib/python3.9/site-packages (22.1.10)\r\n",
      "Requirement already satisfied: setuptools in /Users/harshikahooda/Applications/anaconda3/lib/python3.9/site-packages (from pycountry) (58.0.4)\r\n"
     ]
    }
   ],
   "source": [
    "!pip install pycountry\n",
    "!pip install -q --upgrade pymc3"
   ]
  },
  {
   "cell_type": "code",
   "execution_count": 4,
   "metadata": {
    "collapsed": true,
    "id": "fPrbrRYgqSah",
    "tags": []
   },
   "outputs": [
    {
     "name": "stdout",
     "output_type": "stream",
     "text": [
      "Requirement already satisfied: tensorflow in /Users/harshikahooda/Applications/anaconda3/lib/python3.9/site-packages (2.7.0)\n",
      "Requirement already satisfied: six>=1.12.0 in /Users/harshikahooda/Applications/anaconda3/lib/python3.9/site-packages (from tensorflow) (1.16.0)\n",
      "Requirement already satisfied: tensorflow-estimator<2.8,~=2.7.0rc0 in /Users/harshikahooda/Applications/anaconda3/lib/python3.9/site-packages (from tensorflow) (2.7.0)\n",
      "Requirement already satisfied: flatbuffers<3.0,>=1.12 in /Users/harshikahooda/Applications/anaconda3/lib/python3.9/site-packages (from tensorflow) (2.0)\n",
      "Requirement already satisfied: libclang>=9.0.1 in /Users/harshikahooda/Applications/anaconda3/lib/python3.9/site-packages (from tensorflow) (12.0.0)\n",
      "Requirement already satisfied: tensorflow-io-gcs-filesystem>=0.21.0 in /Users/harshikahooda/Applications/anaconda3/lib/python3.9/site-packages (from tensorflow) (0.23.1)\n",
      "Requirement already satisfied: wheel<1.0,>=0.32.0 in /Users/harshikahooda/Applications/anaconda3/lib/python3.9/site-packages (from tensorflow) (0.37.0)\n",
      "Requirement already satisfied: typing-extensions>=3.6.6 in /Users/harshikahooda/Applications/anaconda3/lib/python3.9/site-packages (from tensorflow) (3.10.0.2)\n",
      "Requirement already satisfied: keras<2.8,>=2.7.0rc0 in /Users/harshikahooda/Applications/anaconda3/lib/python3.9/site-packages (from tensorflow) (2.7.0)\n",
      "Requirement already satisfied: gast<0.5.0,>=0.2.1 in /Users/harshikahooda/Applications/anaconda3/lib/python3.9/site-packages (from tensorflow) (0.4.0)\n",
      "Requirement already satisfied: astunparse>=1.6.0 in /Users/harshikahooda/Applications/anaconda3/lib/python3.9/site-packages (from tensorflow) (1.6.3)\n",
      "Requirement already satisfied: numpy>=1.14.5 in /Users/harshikahooda/Applications/anaconda3/lib/python3.9/site-packages (from tensorflow) (1.20.3)\n",
      "Requirement already satisfied: wrapt>=1.11.0 in /Users/harshikahooda/Applications/anaconda3/lib/python3.9/site-packages (from tensorflow) (1.12.1)\n",
      "Requirement already satisfied: keras-preprocessing>=1.1.1 in /Users/harshikahooda/Applications/anaconda3/lib/python3.9/site-packages (from tensorflow) (1.1.2)\n",
      "Requirement already satisfied: protobuf>=3.9.2 in /Users/harshikahooda/Applications/anaconda3/lib/python3.9/site-packages (from tensorflow) (3.19.3)\n",
      "Requirement already satisfied: tensorboard~=2.6 in /Users/harshikahooda/Applications/anaconda3/lib/python3.9/site-packages (from tensorflow) (2.8.0)\n",
      "Requirement already satisfied: termcolor>=1.1.0 in /Users/harshikahooda/Applications/anaconda3/lib/python3.9/site-packages (from tensorflow) (1.1.0)\n",
      "Requirement already satisfied: google-pasta>=0.1.1 in /Users/harshikahooda/Applications/anaconda3/lib/python3.9/site-packages (from tensorflow) (0.2.0)\n",
      "Requirement already satisfied: h5py>=2.9.0 in /Users/harshikahooda/Applications/anaconda3/lib/python3.9/site-packages (from tensorflow) (3.2.1)\n",
      "Requirement already satisfied: absl-py>=0.4.0 in /Users/harshikahooda/Applications/anaconda3/lib/python3.9/site-packages (from tensorflow) (1.0.0)\n",
      "Requirement already satisfied: opt-einsum>=2.3.2 in /Users/harshikahooda/Applications/anaconda3/lib/python3.9/site-packages (from tensorflow) (3.3.0)\n",
      "Requirement already satisfied: grpcio<2.0,>=1.24.3 in /Users/harshikahooda/Applications/anaconda3/lib/python3.9/site-packages (from tensorflow) (1.43.0)\n",
      "Requirement already satisfied: werkzeug>=0.11.15 in /Users/harshikahooda/Applications/anaconda3/lib/python3.9/site-packages (from tensorboard~=2.6->tensorflow) (2.0.2)\n",
      "Requirement already satisfied: markdown>=2.6.8 in /Users/harshikahooda/Applications/anaconda3/lib/python3.9/site-packages (from tensorboard~=2.6->tensorflow) (3.3.6)\n",
      "Requirement already satisfied: google-auth-oauthlib<0.5,>=0.4.1 in /Users/harshikahooda/Applications/anaconda3/lib/python3.9/site-packages (from tensorboard~=2.6->tensorflow) (0.4.6)\n",
      "Requirement already satisfied: tensorboard-data-server<0.7.0,>=0.6.0 in /Users/harshikahooda/Applications/anaconda3/lib/python3.9/site-packages (from tensorboard~=2.6->tensorflow) (0.6.1)\n",
      "Requirement already satisfied: setuptools>=41.0.0 in /Users/harshikahooda/Applications/anaconda3/lib/python3.9/site-packages (from tensorboard~=2.6->tensorflow) (58.0.4)\n",
      "Requirement already satisfied: google-auth<3,>=1.6.3 in /Users/harshikahooda/Applications/anaconda3/lib/python3.9/site-packages (from tensorboard~=2.6->tensorflow) (2.3.3)\n",
      "Requirement already satisfied: requests<3,>=2.21.0 in /Users/harshikahooda/Applications/anaconda3/lib/python3.9/site-packages (from tensorboard~=2.6->tensorflow) (2.26.0)\n",
      "Requirement already satisfied: tensorboard-plugin-wit>=1.6.0 in /Users/harshikahooda/Applications/anaconda3/lib/python3.9/site-packages (from tensorboard~=2.6->tensorflow) (1.8.1)\n",
      "Requirement already satisfied: cachetools<5.0,>=2.0.0 in /Users/harshikahooda/Applications/anaconda3/lib/python3.9/site-packages (from google-auth<3,>=1.6.3->tensorboard~=2.6->tensorflow) (4.2.4)\n",
      "Requirement already satisfied: pyasn1-modules>=0.2.1 in /Users/harshikahooda/Applications/anaconda3/lib/python3.9/site-packages (from google-auth<3,>=1.6.3->tensorboard~=2.6->tensorflow) (0.2.8)\n",
      "Requirement already satisfied: rsa<5,>=3.1.4 in /Users/harshikahooda/Applications/anaconda3/lib/python3.9/site-packages (from google-auth<3,>=1.6.3->tensorboard~=2.6->tensorflow) (4.8)\n",
      "Requirement already satisfied: requests-oauthlib>=0.7.0 in /Users/harshikahooda/Applications/anaconda3/lib/python3.9/site-packages (from google-auth-oauthlib<0.5,>=0.4.1->tensorboard~=2.6->tensorflow) (1.3.0)\n",
      "Requirement already satisfied: importlib-metadata>=4.4 in /Users/harshikahooda/Applications/anaconda3/lib/python3.9/site-packages (from markdown>=2.6.8->tensorboard~=2.6->tensorflow) (4.8.1)\n",
      "Requirement already satisfied: zipp>=0.5 in /Users/harshikahooda/Applications/anaconda3/lib/python3.9/site-packages (from importlib-metadata>=4.4->markdown>=2.6.8->tensorboard~=2.6->tensorflow) (3.6.0)\n",
      "Requirement already satisfied: pyasn1<0.5.0,>=0.4.6 in /Users/harshikahooda/Applications/anaconda3/lib/python3.9/site-packages (from pyasn1-modules>=0.2.1->google-auth<3,>=1.6.3->tensorboard~=2.6->tensorflow) (0.4.8)\n",
      "Requirement already satisfied: idna<4,>=2.5 in /Users/harshikahooda/Applications/anaconda3/lib/python3.9/site-packages (from requests<3,>=2.21.0->tensorboard~=2.6->tensorflow) (3.2)\n",
      "Requirement already satisfied: urllib3<1.27,>=1.21.1 in /Users/harshikahooda/Applications/anaconda3/lib/python3.9/site-packages (from requests<3,>=2.21.0->tensorboard~=2.6->tensorflow) (1.26.7)\n",
      "Requirement already satisfied: charset-normalizer~=2.0.0 in /Users/harshikahooda/Applications/anaconda3/lib/python3.9/site-packages (from requests<3,>=2.21.0->tensorboard~=2.6->tensorflow) (2.0.4)\n",
      "Requirement already satisfied: certifi>=2017.4.17 in /Users/harshikahooda/Applications/anaconda3/lib/python3.9/site-packages (from requests<3,>=2.21.0->tensorboard~=2.6->tensorflow) (2021.10.8)\n",
      "Requirement already satisfied: oauthlib>=3.0.0 in /Users/harshikahooda/Applications/anaconda3/lib/python3.9/site-packages (from requests-oauthlib>=0.7.0->google-auth-oauthlib<0.5,>=0.4.1->tensorboard~=2.6->tensorflow) (3.1.1)\n",
      "Note: you may need to restart the kernel to use updated packages.\n"
     ]
    }
   ],
   "source": [
    "pip install tensorflow"
   ]
  },
  {
   "cell_type": "code",
   "execution_count": 5,
   "metadata": {
    "collapsed": true,
    "id": "Y1If-m78qSai",
    "tags": []
   },
   "outputs": [
    {
     "name": "stdout",
     "output_type": "stream",
     "text": [
      "Requirement already satisfied: keras in /Users/harshikahooda/Applications/anaconda3/lib/python3.9/site-packages (2.7.0)\n",
      "Note: you may need to restart the kernel to use updated packages.\n"
     ]
    }
   ],
   "source": [
    "pip install keras "
   ]
  },
  {
   "cell_type": "markdown",
   "metadata": {
    "id": "asGTptxmSHXL"
   },
   "source": [
    "## Download and preliminary analysis of data\n"
   ]
  },
  {
   "cell_type": "markdown",
   "metadata": {
    "id": "TzWsBj_vSHXM"
   },
   "source": [
    "### Downloading data\n"
   ]
  },
  {
   "cell_type": "markdown",
   "metadata": {
    "id": "hDjiznTFSHXN"
   },
   "source": [
    "Some libraries should be imported before you can begin.\n"
   ]
  },
  {
   "cell_type": "code",
   "execution_count": 6,
   "metadata": {
    "id": "HCElmtcUSHXN"
   },
   "outputs": [],
   "source": [
    "import pandas as pd\n",
    "import numpy as np"
   ]
  },
  {
   "cell_type": "markdown",
   "metadata": {
    "id": "WyNH-dJJHYcd"
   },
   "source": [
    "The next step is to download the data file from the repository using the read_csv(). Let's download data about pesticide sales: \n",
    "https://ec.europa.eu/eurostat/cache/metadata/en/aei_fm_salpest09_esms.html \n"
   ]
  },
  {
   "cell_type": "code",
   "execution_count": 8,
   "metadata": {
    "id": "gBBfrh9jSHXQ"
   },
   "outputs": [
    {
     "data": {
      "text/html": [
       "<div>\n",
       "<style scoped>\n",
       "    .dataframe tbody tr th:only-of-type {\n",
       "        vertical-align: middle;\n",
       "    }\n",
       "\n",
       "    .dataframe tbody tr th {\n",
       "        vertical-align: top;\n",
       "    }\n",
       "\n",
       "    .dataframe thead th {\n",
       "        text-align: right;\n",
       "    }\n",
       "</style>\n",
       "<table border=\"1\" class=\"dataframe\">\n",
       "  <thead>\n",
       "    <tr style=\"text-align: right;\">\n",
       "      <th></th>\n",
       "      <th>DATAFLOW</th>\n",
       "      <th>LAST UPDATE</th>\n",
       "      <th>freq</th>\n",
       "      <th>pesticid</th>\n",
       "      <th>unit</th>\n",
       "      <th>geo</th>\n",
       "      <th>TIME_PERIOD</th>\n",
       "      <th>OBS_VALUE</th>\n",
       "      <th>OBS_FLAG</th>\n",
       "    </tr>\n",
       "  </thead>\n",
       "  <tbody>\n",
       "    <tr>\n",
       "      <th>0</th>\n",
       "      <td>ESTAT:AEI_FM_SALPEST09(1.0)</td>\n",
       "      <td>18/01/22 11:00:00</td>\n",
       "      <td>A</td>\n",
       "      <td>F</td>\n",
       "      <td>KG</td>\n",
       "      <td>AT</td>\n",
       "      <td>2011</td>\n",
       "      <td>1544218.0</td>\n",
       "      <td>NaN</td>\n",
       "    </tr>\n",
       "    <tr>\n",
       "      <th>1</th>\n",
       "      <td>ESTAT:AEI_FM_SALPEST09(1.0)</td>\n",
       "      <td>18/01/22 11:00:00</td>\n",
       "      <td>A</td>\n",
       "      <td>F</td>\n",
       "      <td>KG</td>\n",
       "      <td>AT</td>\n",
       "      <td>2012</td>\n",
       "      <td>1634371.0</td>\n",
       "      <td>NaN</td>\n",
       "    </tr>\n",
       "    <tr>\n",
       "      <th>2</th>\n",
       "      <td>ESTAT:AEI_FM_SALPEST09(1.0)</td>\n",
       "      <td>18/01/22 11:00:00</td>\n",
       "      <td>A</td>\n",
       "      <td>F</td>\n",
       "      <td>KG</td>\n",
       "      <td>AT</td>\n",
       "      <td>2013</td>\n",
       "      <td>1492799.0</td>\n",
       "      <td>NaN</td>\n",
       "    </tr>\n",
       "    <tr>\n",
       "      <th>3</th>\n",
       "      <td>ESTAT:AEI_FM_SALPEST09(1.0)</td>\n",
       "      <td>18/01/22 11:00:00</td>\n",
       "      <td>A</td>\n",
       "      <td>F</td>\n",
       "      <td>KG</td>\n",
       "      <td>AT</td>\n",
       "      <td>2014</td>\n",
       "      <td>1641055.0</td>\n",
       "      <td>NaN</td>\n",
       "    </tr>\n",
       "    <tr>\n",
       "      <th>4</th>\n",
       "      <td>ESTAT:AEI_FM_SALPEST09(1.0)</td>\n",
       "      <td>18/01/22 11:00:00</td>\n",
       "      <td>A</td>\n",
       "      <td>F</td>\n",
       "      <td>KG</td>\n",
       "      <td>AT</td>\n",
       "      <td>2015</td>\n",
       "      <td>2130973.0</td>\n",
       "      <td>NaN</td>\n",
       "    </tr>\n",
       "    <tr>\n",
       "      <th>...</th>\n",
       "      <td>...</td>\n",
       "      <td>...</td>\n",
       "      <td>...</td>\n",
       "      <td>...</td>\n",
       "      <td>...</td>\n",
       "      <td>...</td>\n",
       "      <td>...</td>\n",
       "      <td>...</td>\n",
       "      <td>...</td>\n",
       "    </tr>\n",
       "    <tr>\n",
       "      <th>24134</th>\n",
       "      <td>ESTAT:AEI_FM_SALPEST09(1.0)</td>\n",
       "      <td>18/01/22 11:00:00</td>\n",
       "      <td>A</td>\n",
       "      <td>ZR99_99</td>\n",
       "      <td>KG</td>\n",
       "      <td>SK</td>\n",
       "      <td>2020</td>\n",
       "      <td>NaN</td>\n",
       "      <td>c</td>\n",
       "    </tr>\n",
       "    <tr>\n",
       "      <th>24135</th>\n",
       "      <td>ESTAT:AEI_FM_SALPEST09(1.0)</td>\n",
       "      <td>18/01/22 11:00:00</td>\n",
       "      <td>A</td>\n",
       "      <td>ZR99_99</td>\n",
       "      <td>KG</td>\n",
       "      <td>TR</td>\n",
       "      <td>2017</td>\n",
       "      <td>485633.0</td>\n",
       "      <td>NaN</td>\n",
       "    </tr>\n",
       "    <tr>\n",
       "      <th>24136</th>\n",
       "      <td>ESTAT:AEI_FM_SALPEST09(1.0)</td>\n",
       "      <td>18/01/22 11:00:00</td>\n",
       "      <td>A</td>\n",
       "      <td>ZR99_99</td>\n",
       "      <td>KG</td>\n",
       "      <td>TR</td>\n",
       "      <td>2018</td>\n",
       "      <td>325643.0</td>\n",
       "      <td>NaN</td>\n",
       "    </tr>\n",
       "    <tr>\n",
       "      <th>24137</th>\n",
       "      <td>ESTAT:AEI_FM_SALPEST09(1.0)</td>\n",
       "      <td>18/01/22 11:00:00</td>\n",
       "      <td>A</td>\n",
       "      <td>ZR99_99</td>\n",
       "      <td>KG</td>\n",
       "      <td>TR</td>\n",
       "      <td>2019</td>\n",
       "      <td>8326594.0</td>\n",
       "      <td>NaN</td>\n",
       "    </tr>\n",
       "    <tr>\n",
       "      <th>24138</th>\n",
       "      <td>ESTAT:AEI_FM_SALPEST09(1.0)</td>\n",
       "      <td>18/01/22 11:00:00</td>\n",
       "      <td>A</td>\n",
       "      <td>ZR99_99</td>\n",
       "      <td>KG</td>\n",
       "      <td>TR</td>\n",
       "      <td>2020</td>\n",
       "      <td>0.0</td>\n",
       "      <td>NaN</td>\n",
       "    </tr>\n",
       "  </tbody>\n",
       "</table>\n",
       "<p>24139 rows × 9 columns</p>\n",
       "</div>"
      ],
      "text/plain": [
       "                          DATAFLOW        LAST UPDATE freq pesticid unit geo  \\\n",
       "0      ESTAT:AEI_FM_SALPEST09(1.0)  18/01/22 11:00:00    A        F   KG  AT   \n",
       "1      ESTAT:AEI_FM_SALPEST09(1.0)  18/01/22 11:00:00    A        F   KG  AT   \n",
       "2      ESTAT:AEI_FM_SALPEST09(1.0)  18/01/22 11:00:00    A        F   KG  AT   \n",
       "3      ESTAT:AEI_FM_SALPEST09(1.0)  18/01/22 11:00:00    A        F   KG  AT   \n",
       "4      ESTAT:AEI_FM_SALPEST09(1.0)  18/01/22 11:00:00    A        F   KG  AT   \n",
       "...                            ...                ...  ...      ...  ...  ..   \n",
       "24134  ESTAT:AEI_FM_SALPEST09(1.0)  18/01/22 11:00:00    A  ZR99_99   KG  SK   \n",
       "24135  ESTAT:AEI_FM_SALPEST09(1.0)  18/01/22 11:00:00    A  ZR99_99   KG  TR   \n",
       "24136  ESTAT:AEI_FM_SALPEST09(1.0)  18/01/22 11:00:00    A  ZR99_99   KG  TR   \n",
       "24137  ESTAT:AEI_FM_SALPEST09(1.0)  18/01/22 11:00:00    A  ZR99_99   KG  TR   \n",
       "24138  ESTAT:AEI_FM_SALPEST09(1.0)  18/01/22 11:00:00    A  ZR99_99   KG  TR   \n",
       "\n",
       "       TIME_PERIOD  OBS_VALUE OBS_FLAG  \n",
       "0             2011  1544218.0      NaN  \n",
       "1             2012  1634371.0      NaN  \n",
       "2             2013  1492799.0      NaN  \n",
       "3             2014  1641055.0      NaN  \n",
       "4             2015  2130973.0      NaN  \n",
       "...            ...        ...      ...  \n",
       "24134         2020        NaN        c  \n",
       "24135         2017   485633.0      NaN  \n",
       "24136         2018   325643.0      NaN  \n",
       "24137         2019  8326594.0      NaN  \n",
       "24138         2020        0.0      NaN  \n",
       "\n",
       "[24139 rows x 9 columns]"
      ]
     },
     "execution_count": 8,
     "metadata": {},
     "output_type": "execute_result"
    }
   ],
   "source": [
    "df = pd.read_csv('aei_fm_salpest09__custom_1936779_linear.csv')\n",
    "df"
   ]
  },
  {
   "cell_type": "markdown",
   "metadata": {
    "id": "IHr20gouqSan"
   },
   "source": [
    "As you can see, the DataSet consists of 24139 rows and 9 columns. Let's study the columns.\n"
   ]
  },
  {
   "cell_type": "code",
   "execution_count": 9,
   "metadata": {
    "colab": {
     "base_uri": "https://localhost:8080/"
    },
    "id": "HgKYoJ8-qSao",
    "outputId": "a836a4d8-405d-4552-f525-e0466bed044d"
   },
   "outputs": [
    {
     "data": {
      "text/plain": [
       "Index(['DATAFLOW', 'LAST UPDATE', 'freq', 'pesticid', 'unit', 'geo',\n",
       "       'TIME_PERIOD', 'OBS_VALUE', 'OBS_FLAG'],\n",
       "      dtype='object')"
      ]
     },
     "execution_count": 9,
     "metadata": {},
     "output_type": "execute_result"
    }
   ],
   "source": [
    "col = df.columns\n",
    "col"
   ]
  },
  {
   "cell_type": "markdown",
   "metadata": {
    "id": "6pdatQXvqSao"
   },
   "source": [
    "In this project, we will try to build a sales forecast of one pesticide type.\n",
    "As you can see from the table, we don't need to use all the columns to make this forecast because some columns contain similar data. For forecasting we need to know only the data from columns: 'pesticid', 'geo', 'TIME_PERIOD', 'OBS_VALUE'.\n",
    "\n",
    "Let's select the necessary columns.\n"
   ]
  },
  {
   "cell_type": "code",
   "execution_count": 10,
   "metadata": {
    "colab": {
     "base_uri": "https://localhost:8080/",
     "height": 419
    },
    "id": "rhz8VqBCqSaq",
    "outputId": "9aa496da-ddcd-42ab-bfaf-f019e01c447e"
   },
   "outputs": [
    {
     "data": {
      "text/html": [
       "<div>\n",
       "<style scoped>\n",
       "    .dataframe tbody tr th:only-of-type {\n",
       "        vertical-align: middle;\n",
       "    }\n",
       "\n",
       "    .dataframe tbody tr th {\n",
       "        vertical-align: top;\n",
       "    }\n",
       "\n",
       "    .dataframe thead th {\n",
       "        text-align: right;\n",
       "    }\n",
       "</style>\n",
       "<table border=\"1\" class=\"dataframe\">\n",
       "  <thead>\n",
       "    <tr style=\"text-align: right;\">\n",
       "      <th></th>\n",
       "      <th>pesticid</th>\n",
       "      <th>geo</th>\n",
       "      <th>TIME_PERIOD</th>\n",
       "      <th>OBS_VALUE</th>\n",
       "    </tr>\n",
       "  </thead>\n",
       "  <tbody>\n",
       "    <tr>\n",
       "      <th>0</th>\n",
       "      <td>F</td>\n",
       "      <td>AT</td>\n",
       "      <td>2011</td>\n",
       "      <td>1544218.0</td>\n",
       "    </tr>\n",
       "    <tr>\n",
       "      <th>1</th>\n",
       "      <td>F</td>\n",
       "      <td>AT</td>\n",
       "      <td>2012</td>\n",
       "      <td>1634371.0</td>\n",
       "    </tr>\n",
       "    <tr>\n",
       "      <th>2</th>\n",
       "      <td>F</td>\n",
       "      <td>AT</td>\n",
       "      <td>2013</td>\n",
       "      <td>1492799.0</td>\n",
       "    </tr>\n",
       "    <tr>\n",
       "      <th>3</th>\n",
       "      <td>F</td>\n",
       "      <td>AT</td>\n",
       "      <td>2014</td>\n",
       "      <td>1641055.0</td>\n",
       "    </tr>\n",
       "    <tr>\n",
       "      <th>4</th>\n",
       "      <td>F</td>\n",
       "      <td>AT</td>\n",
       "      <td>2015</td>\n",
       "      <td>2130973.0</td>\n",
       "    </tr>\n",
       "    <tr>\n",
       "      <th>...</th>\n",
       "      <td>...</td>\n",
       "      <td>...</td>\n",
       "      <td>...</td>\n",
       "      <td>...</td>\n",
       "    </tr>\n",
       "    <tr>\n",
       "      <th>24134</th>\n",
       "      <td>ZR99_99</td>\n",
       "      <td>SK</td>\n",
       "      <td>2020</td>\n",
       "      <td>NaN</td>\n",
       "    </tr>\n",
       "    <tr>\n",
       "      <th>24135</th>\n",
       "      <td>ZR99_99</td>\n",
       "      <td>TR</td>\n",
       "      <td>2017</td>\n",
       "      <td>485633.0</td>\n",
       "    </tr>\n",
       "    <tr>\n",
       "      <th>24136</th>\n",
       "      <td>ZR99_99</td>\n",
       "      <td>TR</td>\n",
       "      <td>2018</td>\n",
       "      <td>325643.0</td>\n",
       "    </tr>\n",
       "    <tr>\n",
       "      <th>24137</th>\n",
       "      <td>ZR99_99</td>\n",
       "      <td>TR</td>\n",
       "      <td>2019</td>\n",
       "      <td>8326594.0</td>\n",
       "    </tr>\n",
       "    <tr>\n",
       "      <th>24138</th>\n",
       "      <td>ZR99_99</td>\n",
       "      <td>TR</td>\n",
       "      <td>2020</td>\n",
       "      <td>0.0</td>\n",
       "    </tr>\n",
       "  </tbody>\n",
       "</table>\n",
       "<p>24139 rows × 4 columns</p>\n",
       "</div>"
      ],
      "text/plain": [
       "      pesticid geo  TIME_PERIOD  OBS_VALUE\n",
       "0            F  AT         2011  1544218.0\n",
       "1            F  AT         2012  1634371.0\n",
       "2            F  AT         2013  1492799.0\n",
       "3            F  AT         2014  1641055.0\n",
       "4            F  AT         2015  2130973.0\n",
       "...        ...  ..          ...        ...\n",
       "24134  ZR99_99  SK         2020        NaN\n",
       "24135  ZR99_99  TR         2017   485633.0\n",
       "24136  ZR99_99  TR         2018   325643.0\n",
       "24137  ZR99_99  TR         2019  8326594.0\n",
       "24138  ZR99_99  TR         2020        0.0\n",
       "\n",
       "[24139 rows x 4 columns]"
      ]
     },
     "execution_count": 10,
     "metadata": {},
     "output_type": "execute_result"
    }
   ],
   "source": [
    "col = ['pesticid', 'geo', 'TIME_PERIOD', 'OBS_VALUE']\n",
    "df = df[col]\n",
    "df"
   ]
  },
  {
   "cell_type": "markdown",
   "metadata": {
    "id": "i7xBX5bOSHXR"
   },
   "source": [
    "Let's study this DataSet. As you can see, the DataSet consist of 24139 rows × 4 columns. The columns contain the following data:\n",
    "\n",
    "pesticid - pesticide code;\n",
    "\n",
    "geo - country code;\n",
    "\n",
    "TIME_PERIOD - year;\n",
    "\n",
    "OBS_VALUE - volume of sales in KG.\n",
    "\n",
    "We should make sure that Python recognized the types of data correctly. To do this, we should use **[pandas.info()](https://pandas.pydata.org/docs/reference/api/pandas.DataFrame.info.html?utm_medium=Exinfluencer&utm_source=Exinfluencer&utm_content=000026UJ&utm_term=10006555&utm_id=NA-SkillsNetwork-Channel-SkillsNetworkQuickLabsdatascienceinagricultureprognosticationusingbyneuralnetwork28167412-2021-01-01&highlight=info#pandas.DataFrame.info)**.\n"
   ]
  },
  {
   "cell_type": "code",
   "execution_count": 11,
   "metadata": {
    "colab": {
     "base_uri": "https://localhost:8080/"
    },
    "id": "dlHQLDNbSHXS",
    "outputId": "fe19df79-34cd-45ff-fdcb-22f6e28e2a23"
   },
   "outputs": [
    {
     "name": "stdout",
     "output_type": "stream",
     "text": [
      "<class 'pandas.core.frame.DataFrame'>\n",
      "RangeIndex: 24139 entries, 0 to 24138\n",
      "Data columns (total 4 columns):\n",
      " #   Column       Non-Null Count  Dtype  \n",
      "---  ------       --------------  -----  \n",
      " 0   pesticid     24139 non-null  object \n",
      " 1   geo          24139 non-null  object \n",
      " 2   TIME_PERIOD  24139 non-null  int64  \n",
      " 3   OBS_VALUE    19070 non-null  float64\n",
      "dtypes: float64(1), int64(1), object(2)\n",
      "memory usage: 754.5+ KB\n"
     ]
    }
   ],
   "source": [
    "df.info()"
   ]
  },
  {
   "cell_type": "markdown",
   "metadata": {
    "id": "plwSnG7USHXS"
   },
   "source": [
    "As you can see, two last columns were recognized correctly (int64 and float64). First 2 columns were recognized as objects. Let's investigate them:\n"
   ]
  },
  {
   "cell_type": "markdown",
   "metadata": {
    "id": "GQgoCu1HSHXU"
   },
   "source": [
    "### Сhanging the data and data types of columns\n"
   ]
  },
  {
   "cell_type": "markdown",
   "metadata": {
    "id": "N0ry4RnoSHXV"
   },
   "source": [
    "As you can see, the columns 'pesticid' and 'geo' have many repetitions and should be assigned to categorical fields **([pandas.astype()](https://pandas.pydata.org/docs/reference/api/pandas.DataFrame.astype.html?utm_medium=Exinfluencer&utm_source=Exinfluencer&utm_content=000026UJ&utm_term=10006555&utm_id=NA-SkillsNetwork-Channel-SkillsNetworkQuickLabsdatascienceinagricultureprognosticationusingbyneuralnetwork28167412-2021-01-01&highlight=astype#pandas.DataFrame.astype))**.\n",
    "To see the results, we can use **[pandas.describe()](https://pandas.pydata.org/docs/reference/api/pandas.DataFrame.describe.html?utm_medium=Exinfluencer&utm_source=Exinfluencer&utm_content=000026UJ&utm_term=10006555&utm_id=NA-SkillsNetwork-Channel-SkillsNetworkQuickLabsdatascienceinagricultureprognosticationusingbyneuralnetwork28167412-2021-01-01&highlight=describe#pandas.DataFrame.describe)**.\n"
   ]
  },
  {
   "cell_type": "code",
   "execution_count": 12,
   "metadata": {
    "colab": {
     "base_uri": "https://localhost:8080/",
     "height": 295
    },
    "id": "N51GlxXpSHXW",
    "outputId": "bbe1fe29-ed5a-4e27-e5e7-a2995117ee6b"
   },
   "outputs": [
    {
     "name": "stderr",
     "output_type": "stream",
     "text": [
      "/Users/harshikahooda/Applications/anaconda3/lib/python3.9/site-packages/pandas/core/indexing.py:1884: SettingWithCopyWarning: \n",
      "A value is trying to be set on a copy of a slice from a DataFrame.\n",
      "Try using .loc[row_indexer,col_indexer] = value instead\n",
      "\n",
      "See the caveats in the documentation: https://pandas.pydata.org/pandas-docs/stable/user_guide/indexing.html#returning-a-view-versus-a-copy\n",
      "  self._setitem_single_column(loc, val, pi)\n"
     ]
    },
    {
     "data": {
      "text/html": [
       "<div>\n",
       "<style scoped>\n",
       "    .dataframe tbody tr th:only-of-type {\n",
       "        vertical-align: middle;\n",
       "    }\n",
       "\n",
       "    .dataframe tbody tr th {\n",
       "        vertical-align: top;\n",
       "    }\n",
       "\n",
       "    .dataframe thead th {\n",
       "        text-align: right;\n",
       "    }\n",
       "</style>\n",
       "<table border=\"1\" class=\"dataframe\">\n",
       "  <thead>\n",
       "    <tr style=\"text-align: right;\">\n",
       "      <th></th>\n",
       "      <th>pesticid</th>\n",
       "      <th>geo</th>\n",
       "    </tr>\n",
       "  </thead>\n",
       "  <tbody>\n",
       "    <tr>\n",
       "      <th>count</th>\n",
       "      <td>24139</td>\n",
       "      <td>24139</td>\n",
       "    </tr>\n",
       "    <tr>\n",
       "      <th>unique</th>\n",
       "      <td>156</td>\n",
       "      <td>32</td>\n",
       "    </tr>\n",
       "    <tr>\n",
       "      <th>top</th>\n",
       "      <td>F</td>\n",
       "      <td>IT</td>\n",
       "    </tr>\n",
       "    <tr>\n",
       "      <th>freq</th>\n",
       "      <td>300</td>\n",
       "      <td>1404</td>\n",
       "    </tr>\n",
       "  </tbody>\n",
       "</table>\n",
       "</div>"
      ],
      "text/plain": [
       "       pesticid    geo\n",
       "count     24139  24139\n",
       "unique      156     32\n",
       "top           F     IT\n",
       "freq        300   1404"
      ]
     },
     "execution_count": 12,
     "metadata": {},
     "output_type": "execute_result"
    }
   ],
   "source": [
    "col = ['pesticid', 'geo',]\n",
    "df.loc[:, col] = df[col].astype('category')\n",
    "df[col].describe()"
   ]
  },
  {
   "cell_type": "markdown",
   "metadata": {
    "id": "IYw9KX20SHXX"
   },
   "source": [
    "As we can see, the DataSet contains information about 32 countries and 6 pesticides.\n",
    "To show categories, we can use **[pandas.Series.cat.categories](https://pandas.pydata.org/docs/reference/api/pandas.Series.cat.categories.html?utm_medium=Exinfluencer&utm_source=Exinfluencer&utm_content=000026UJ&utm_term=10006555&utm_id=NA-SkillsNetwork-Channel-SkillsNetworkQuickLabsdatascienceinagricultureprognosticationusingbyneuralnetwork28167412-2021-01-01)** or **[pandas.unique()](https://pandas.pydata.org/pandas-docs/stable/reference/api/pandas.unique.html?utm_medium=Exinfluencer&utm_source=Exinfluencer&utm_content=000026UJ&utm_term=10006555&utm_id=NA-SkillsNetwork-Channel-SkillsNetworkQuickLabsdatascienceinagricultureprognosticationusingbyneuralnetwork28167412-2021-01-01)**.\n"
   ]
  },
  {
   "cell_type": "code",
   "execution_count": 13,
   "metadata": {
    "colab": {
     "base_uri": "https://localhost:8080/"
    },
    "id": "c7Uo1YVbSHXY",
    "outputId": "d3b42910-28cf-405f-8320-0b4f4003d848"
   },
   "outputs": [
    {
     "data": {
      "text/plain": [
       "Index(['F', 'F01', 'F01_01', 'F01_02', 'F01_99', 'F02', 'F02_01', 'F02_02',\n",
       "       'F02_03', 'F02_99',\n",
       "       ...\n",
       "       'ZR03_01', 'ZR03_02', 'ZR03_03', 'ZR03_99', 'ZR04', 'ZR04_01', 'ZR99',\n",
       "       'ZR99_01', 'ZR99_02', 'ZR99_99'],\n",
       "      dtype='object', length=156)"
      ]
     },
     "execution_count": 13,
     "metadata": {},
     "output_type": "execute_result"
    }
   ],
   "source": [
    "df['pesticid'].cat.categories"
   ]
  },
  {
   "cell_type": "code",
   "execution_count": 14,
   "metadata": {
    "colab": {
     "base_uri": "https://localhost:8080/"
    },
    "id": "yjJHtWqhqSa0",
    "outputId": "ba42857d-647a-44be-b145-254986a04c37"
   },
   "outputs": [
    {
     "data": {
      "text/plain": [
       "['AT', 'BE', 'BG', 'CH', 'CY', ..., 'SE', 'SI', 'SK', 'TR', 'UK']\n",
       "Length: 32\n",
       "Categories (32, object): ['AT', 'BE', 'BG', 'CH', ..., 'SI', 'SK', 'TR', 'UK']"
      ]
     },
     "execution_count": 14,
     "metadata": {},
     "output_type": "execute_result"
    }
   ],
   "source": [
    "df['geo'].unique()"
   ]
  },
  {
   "cell_type": "markdown",
   "metadata": {
    "id": "mjk0-H-fqSa0"
   },
   "source": [
    "It should be noted that there are some nonstandard country codes for the United Kingdom and Greece.\n",
    "We should change the values: UK to GB for the United Kingdom and EL to GR for Greece.\n",
    "To do this, we should add new category names using **[pandas.Series.cat.add_categories()](https://pandas.pydata.org/pandas-docs/version/1.0.5/reference/api/pandas.Series.cat.add_categories.html?utm_medium=Exinfluencer&utm_source=Exinfluencer&utm_content=000026UJ&utm_term=10006555&utm_id=NA-SkillsNetwork-Channel-SkillsNetworkQuickLabsdatascienceinagricultureprognosticationusingbyneuralnetwork28167412-2021-01-01)**.\n"
   ]
  },
  {
   "cell_type": "code",
   "execution_count": 15,
   "metadata": {
    "colab": {
     "base_uri": "https://localhost:8080/"
    },
    "id": "E9kGIoECqSa1",
    "outputId": "ad8b16f2-45c2-49b5-c1c9-f557636ca05d"
   },
   "outputs": [
    {
     "name": "stderr",
     "output_type": "stream",
     "text": [
      "/Users/harshikahooda/Applications/anaconda3/lib/python3.9/site-packages/pandas/core/indexing.py:1773: SettingWithCopyWarning: \n",
      "A value is trying to be set on a copy of a slice from a DataFrame.\n",
      "Try using .loc[row_indexer,col_indexer] = value instead\n",
      "\n",
      "See the caveats in the documentation: https://pandas.pydata.org/pandas-docs/stable/user_guide/indexing.html#returning-a-view-versus-a-copy\n",
      "  self._setitem_single_column(ilocs[0], value, pi)\n"
     ]
    }
   ],
   "source": [
    "df.loc[:, 'geo'] = df['geo'].cat.add_categories([\"GB\", \"GR\"])"
   ]
  },
  {
   "cell_type": "markdown",
   "metadata": {
    "id": "U-iCYrdFqSa1"
   },
   "source": [
    "Then we should change the values using a binary mask:\n"
   ]
  },
  {
   "cell_type": "code",
   "execution_count": 16,
   "metadata": {
    "colab": {
     "base_uri": "https://localhost:8080/",
     "height": 419
    },
    "id": "n_RU3n5QqSa2",
    "outputId": "6c3a1ade-d708-452c-fc0f-a9af8596ae9c"
   },
   "outputs": [
    {
     "data": {
      "text/html": [
       "<div>\n",
       "<style scoped>\n",
       "    .dataframe tbody tr th:only-of-type {\n",
       "        vertical-align: middle;\n",
       "    }\n",
       "\n",
       "    .dataframe tbody tr th {\n",
       "        vertical-align: top;\n",
       "    }\n",
       "\n",
       "    .dataframe thead th {\n",
       "        text-align: right;\n",
       "    }\n",
       "</style>\n",
       "<table border=\"1\" class=\"dataframe\">\n",
       "  <thead>\n",
       "    <tr style=\"text-align: right;\">\n",
       "      <th></th>\n",
       "      <th>pesticid</th>\n",
       "      <th>geo</th>\n",
       "      <th>TIME_PERIOD</th>\n",
       "      <th>OBS_VALUE</th>\n",
       "    </tr>\n",
       "  </thead>\n",
       "  <tbody>\n",
       "    <tr>\n",
       "      <th>0</th>\n",
       "      <td>F</td>\n",
       "      <td>AT</td>\n",
       "      <td>2011</td>\n",
       "      <td>1544218.0</td>\n",
       "    </tr>\n",
       "    <tr>\n",
       "      <th>1</th>\n",
       "      <td>F</td>\n",
       "      <td>AT</td>\n",
       "      <td>2012</td>\n",
       "      <td>1634371.0</td>\n",
       "    </tr>\n",
       "    <tr>\n",
       "      <th>2</th>\n",
       "      <td>F</td>\n",
       "      <td>AT</td>\n",
       "      <td>2013</td>\n",
       "      <td>1492799.0</td>\n",
       "    </tr>\n",
       "    <tr>\n",
       "      <th>3</th>\n",
       "      <td>F</td>\n",
       "      <td>AT</td>\n",
       "      <td>2014</td>\n",
       "      <td>1641055.0</td>\n",
       "    </tr>\n",
       "    <tr>\n",
       "      <th>4</th>\n",
       "      <td>F</td>\n",
       "      <td>AT</td>\n",
       "      <td>2015</td>\n",
       "      <td>2130973.0</td>\n",
       "    </tr>\n",
       "    <tr>\n",
       "      <th>...</th>\n",
       "      <td>...</td>\n",
       "      <td>...</td>\n",
       "      <td>...</td>\n",
       "      <td>...</td>\n",
       "    </tr>\n",
       "    <tr>\n",
       "      <th>24134</th>\n",
       "      <td>ZR99_99</td>\n",
       "      <td>SK</td>\n",
       "      <td>2020</td>\n",
       "      <td>NaN</td>\n",
       "    </tr>\n",
       "    <tr>\n",
       "      <th>24135</th>\n",
       "      <td>ZR99_99</td>\n",
       "      <td>TR</td>\n",
       "      <td>2017</td>\n",
       "      <td>485633.0</td>\n",
       "    </tr>\n",
       "    <tr>\n",
       "      <th>24136</th>\n",
       "      <td>ZR99_99</td>\n",
       "      <td>TR</td>\n",
       "      <td>2018</td>\n",
       "      <td>325643.0</td>\n",
       "    </tr>\n",
       "    <tr>\n",
       "      <th>24137</th>\n",
       "      <td>ZR99_99</td>\n",
       "      <td>TR</td>\n",
       "      <td>2019</td>\n",
       "      <td>8326594.0</td>\n",
       "    </tr>\n",
       "    <tr>\n",
       "      <th>24138</th>\n",
       "      <td>ZR99_99</td>\n",
       "      <td>TR</td>\n",
       "      <td>2020</td>\n",
       "      <td>0.0</td>\n",
       "    </tr>\n",
       "  </tbody>\n",
       "</table>\n",
       "<p>24139 rows × 4 columns</p>\n",
       "</div>"
      ],
      "text/plain": [
       "      pesticid geo  TIME_PERIOD  OBS_VALUE\n",
       "0            F  AT         2011  1544218.0\n",
       "1            F  AT         2012  1634371.0\n",
       "2            F  AT         2013  1492799.0\n",
       "3            F  AT         2014  1641055.0\n",
       "4            F  AT         2015  2130973.0\n",
       "...        ...  ..          ...        ...\n",
       "24134  ZR99_99  SK         2020        NaN\n",
       "24135  ZR99_99  TR         2017   485633.0\n",
       "24136  ZR99_99  TR         2018   325643.0\n",
       "24137  ZR99_99  TR         2019  8326594.0\n",
       "24138  ZR99_99  TR         2020        0.0\n",
       "\n",
       "[24139 rows x 4 columns]"
      ]
     },
     "execution_count": 16,
     "metadata": {},
     "output_type": "execute_result"
    }
   ],
   "source": [
    "pd.options.mode.chained_assignment = None  # swich of the warnings\n",
    "mask = df['geo'] == 'UK' # Binary mask\n",
    "df.loc[mask, 'geo'] = \"GB\" # Change the values for the mask\n",
    "df"
   ]
  },
  {
   "cell_type": "code",
   "execution_count": 17,
   "metadata": {
    "colab": {
     "base_uri": "https://localhost:8080/",
     "height": 419
    },
    "id": "QgxWJ-gDqSa2",
    "outputId": "b1e9dca5-683f-4b74-c0b7-a93ba7874454"
   },
   "outputs": [
    {
     "data": {
      "text/html": [
       "<div>\n",
       "<style scoped>\n",
       "    .dataframe tbody tr th:only-of-type {\n",
       "        vertical-align: middle;\n",
       "    }\n",
       "\n",
       "    .dataframe tbody tr th {\n",
       "        vertical-align: top;\n",
       "    }\n",
       "\n",
       "    .dataframe thead th {\n",
       "        text-align: right;\n",
       "    }\n",
       "</style>\n",
       "<table border=\"1\" class=\"dataframe\">\n",
       "  <thead>\n",
       "    <tr style=\"text-align: right;\">\n",
       "      <th></th>\n",
       "      <th>pesticid</th>\n",
       "      <th>geo</th>\n",
       "      <th>TIME_PERIOD</th>\n",
       "      <th>OBS_VALUE</th>\n",
       "    </tr>\n",
       "  </thead>\n",
       "  <tbody>\n",
       "    <tr>\n",
       "      <th>0</th>\n",
       "      <td>F</td>\n",
       "      <td>AT</td>\n",
       "      <td>2011</td>\n",
       "      <td>1544218.0</td>\n",
       "    </tr>\n",
       "    <tr>\n",
       "      <th>1</th>\n",
       "      <td>F</td>\n",
       "      <td>AT</td>\n",
       "      <td>2012</td>\n",
       "      <td>1634371.0</td>\n",
       "    </tr>\n",
       "    <tr>\n",
       "      <th>2</th>\n",
       "      <td>F</td>\n",
       "      <td>AT</td>\n",
       "      <td>2013</td>\n",
       "      <td>1492799.0</td>\n",
       "    </tr>\n",
       "    <tr>\n",
       "      <th>3</th>\n",
       "      <td>F</td>\n",
       "      <td>AT</td>\n",
       "      <td>2014</td>\n",
       "      <td>1641055.0</td>\n",
       "    </tr>\n",
       "    <tr>\n",
       "      <th>4</th>\n",
       "      <td>F</td>\n",
       "      <td>AT</td>\n",
       "      <td>2015</td>\n",
       "      <td>2130973.0</td>\n",
       "    </tr>\n",
       "    <tr>\n",
       "      <th>...</th>\n",
       "      <td>...</td>\n",
       "      <td>...</td>\n",
       "      <td>...</td>\n",
       "      <td>...</td>\n",
       "    </tr>\n",
       "    <tr>\n",
       "      <th>24134</th>\n",
       "      <td>ZR99_99</td>\n",
       "      <td>SK</td>\n",
       "      <td>2020</td>\n",
       "      <td>NaN</td>\n",
       "    </tr>\n",
       "    <tr>\n",
       "      <th>24135</th>\n",
       "      <td>ZR99_99</td>\n",
       "      <td>TR</td>\n",
       "      <td>2017</td>\n",
       "      <td>485633.0</td>\n",
       "    </tr>\n",
       "    <tr>\n",
       "      <th>24136</th>\n",
       "      <td>ZR99_99</td>\n",
       "      <td>TR</td>\n",
       "      <td>2018</td>\n",
       "      <td>325643.0</td>\n",
       "    </tr>\n",
       "    <tr>\n",
       "      <th>24137</th>\n",
       "      <td>ZR99_99</td>\n",
       "      <td>TR</td>\n",
       "      <td>2019</td>\n",
       "      <td>8326594.0</td>\n",
       "    </tr>\n",
       "    <tr>\n",
       "      <th>24138</th>\n",
       "      <td>ZR99_99</td>\n",
       "      <td>TR</td>\n",
       "      <td>2020</td>\n",
       "      <td>0.0</td>\n",
       "    </tr>\n",
       "  </tbody>\n",
       "</table>\n",
       "<p>24139 rows × 4 columns</p>\n",
       "</div>"
      ],
      "text/plain": [
       "      pesticid geo  TIME_PERIOD  OBS_VALUE\n",
       "0            F  AT         2011  1544218.0\n",
       "1            F  AT         2012  1634371.0\n",
       "2            F  AT         2013  1492799.0\n",
       "3            F  AT         2014  1641055.0\n",
       "4            F  AT         2015  2130973.0\n",
       "...        ...  ..          ...        ...\n",
       "24134  ZR99_99  SK         2020        NaN\n",
       "24135  ZR99_99  TR         2017   485633.0\n",
       "24136  ZR99_99  TR         2018   325643.0\n",
       "24137  ZR99_99  TR         2019  8326594.0\n",
       "24138  ZR99_99  TR         2020        0.0\n",
       "\n",
       "[24139 rows x 4 columns]"
      ]
     },
     "execution_count": 17,
     "metadata": {},
     "output_type": "execute_result"
    }
   ],
   "source": [
    "mask = mask = df['geo'] == 'EL' \n",
    "df.loc[mask, 'geo'] = \"GR\"\n",
    "df.loc[mask, 'geo'] = \"GR\"\n",
    "df"
   ]
  },
  {
   "cell_type": "markdown",
   "metadata": {
    "id": "oru_9FHIqSa3"
   },
   "source": [
    "After that, add a new column that contains the full names of countries. To do this we can use **[pycountry](https://pypi.org/project/pycountry/?utm_medium=Exinfluencer&utm_source=Exinfluencer&utm_content=000026UJ&utm_term=10006555&utm_id=NA-SkillsNetwork-Channel-SkillsNetworkQuickLabsdatascienceinagricultureprognosticationusingbyneuralnetwork28167412-2021-01-01)** library.\n"
   ]
  },
  {
   "cell_type": "code",
   "execution_count": 18,
   "metadata": {
    "id": "6rg4TI0IqSa4"
   },
   "outputs": [],
   "source": [
    "import pycountry"
   ]
  },
  {
   "cell_type": "markdown",
   "metadata": {
    "id": "DN34MFzQqSa4"
   },
   "source": [
    "pycountry provides the ISO databases for different standards.\n",
    "\n",
    "In order to add a column with full country names we need to create a function that will get a counry code and return a full name.\n",
    "Then it should be the function **[pandas.DataFrame.apply()](https://pandas.pydata.org/pandas-docs/stable/reference/api/pandas.DataFrame.apply.html?utm_medium=Exinfluencer&utm_source=Exinfluencer&utm_content=000026UJ&utm_term=10006555&utm_id=NA-SkillsNetwork-Channel-SkillsNetworkQuickLabsdatascienceinagricultureprognosticationusingbyneuralnetwork28167412-2021-01-01)** for calculating new column values.\n"
   ]
  },
  {
   "cell_type": "code",
   "execution_count": 19,
   "metadata": {
    "colab": {
     "base_uri": "https://localhost:8080/",
     "height": 456
    },
    "id": "AcFsJ5u9qSa5",
    "outputId": "2ebbccf1-2623-4344-fbe1-1e8485aa39ee"
   },
   "outputs": [
    {
     "name": "stdout",
     "output_type": "stream",
     "text": [
      "Country codes ['AW', 'AF', 'AO', 'AI', 'AX', 'AL', 'AD', 'AE', 'AR', 'AM', 'AS', 'AQ', 'TF', 'AG', 'AU', 'AT', 'AZ', 'BI', 'BE', 'BJ', 'BQ', 'BF', 'BD', 'BG', 'BH', 'BS', 'BA', 'BL', 'BY', 'BZ', 'BM', 'BO', 'BR', 'BB', 'BN', 'BT', 'BV', 'BW', 'CF', 'CA', 'CC', 'CH', 'CL', 'CN', 'CI', 'CM', 'CD', 'CG', 'CK', 'CO', 'KM', 'CV', 'CR', 'CU', 'CW', 'CX', 'KY', 'CY', 'CZ', 'DE', 'DJ', 'DM', 'DK', 'DO', 'DZ', 'EC', 'EG', 'ER', 'EH', 'ES', 'EE', 'ET', 'FI', 'FJ', 'FK', 'FR', 'FO', 'FM', 'GA', 'GB', 'GE', 'GG', 'GH', 'GI', 'GN', 'GP', 'GM', 'GW', 'GQ', 'GR', 'GD', 'GL', 'GT', 'GF', 'GU', 'GY', 'HK', 'HM', 'HN', 'HR', 'HT', 'HU', 'ID', 'IM', 'IN', 'IO', 'IE', 'IR', 'IQ', 'IS', 'IL', 'IT', 'JM', 'JE', 'JO', 'JP', 'KZ', 'KE', 'KG', 'KH', 'KI', 'KN', 'KR', 'KW', 'LA', 'LB', 'LR', 'LY', 'LC', 'LI', 'LK', 'LS', 'LT', 'LU', 'LV', 'MO', 'MF', 'MA', 'MC', 'MD', 'MG', 'MV', 'MX', 'MH', 'MK', 'ML', 'MT', 'MM', 'ME', 'MN', 'MP', 'MZ', 'MR', 'MS', 'MQ', 'MU', 'MW', 'MY', 'YT', 'NA', 'NC', 'NE', 'NF', 'NG', 'NI', 'NU', 'NL', 'NO', 'NP', 'NR', 'NZ', 'OM', 'PK', 'PA', 'PN', 'PE', 'PH', 'PW', 'PG', 'PL', 'PR', 'KP', 'PT', 'PY', 'PS', 'PF', 'QA', 'RE', 'RO', 'RU', 'RW', 'SA', 'SD', 'SN', 'SG', 'GS', 'SH', 'SJ', 'SB', 'SL', 'SV', 'SM', 'SO', 'PM', 'RS', 'SS', 'ST', 'SR', 'SK', 'SI', 'SE', 'SZ', 'SX', 'SC', 'SY', 'TC', 'TD', 'TG', 'TH', 'TJ', 'TK', 'TM', 'TL', 'TO', 'TT', 'TN', 'TR', 'TV', 'TW', 'TZ', 'UG', 'UA', 'UM', 'UY', 'US', 'UZ', 'VA', 'VC', 'VE', 'VG', 'VI', 'VN', 'VU', 'WF', 'WS', 'YE', 'ZA', 'ZM', 'ZW']\n"
     ]
    },
    {
     "data": {
      "text/html": [
       "<div>\n",
       "<style scoped>\n",
       "    .dataframe tbody tr th:only-of-type {\n",
       "        vertical-align: middle;\n",
       "    }\n",
       "\n",
       "    .dataframe tbody tr th {\n",
       "        vertical-align: top;\n",
       "    }\n",
       "\n",
       "    .dataframe thead th {\n",
       "        text-align: right;\n",
       "    }\n",
       "</style>\n",
       "<table border=\"1\" class=\"dataframe\">\n",
       "  <thead>\n",
       "    <tr style=\"text-align: right;\">\n",
       "      <th></th>\n",
       "      <th>pesticid</th>\n",
       "      <th>geo</th>\n",
       "      <th>TIME_PERIOD</th>\n",
       "      <th>OBS_VALUE</th>\n",
       "      <th>country_name</th>\n",
       "    </tr>\n",
       "  </thead>\n",
       "  <tbody>\n",
       "    <tr>\n",
       "      <th>0</th>\n",
       "      <td>F</td>\n",
       "      <td>AT</td>\n",
       "      <td>2011</td>\n",
       "      <td>1544218.0</td>\n",
       "      <td>Austria</td>\n",
       "    </tr>\n",
       "    <tr>\n",
       "      <th>1</th>\n",
       "      <td>F</td>\n",
       "      <td>AT</td>\n",
       "      <td>2012</td>\n",
       "      <td>1634371.0</td>\n",
       "      <td>Austria</td>\n",
       "    </tr>\n",
       "    <tr>\n",
       "      <th>2</th>\n",
       "      <td>F</td>\n",
       "      <td>AT</td>\n",
       "      <td>2013</td>\n",
       "      <td>1492799.0</td>\n",
       "      <td>Austria</td>\n",
       "    </tr>\n",
       "    <tr>\n",
       "      <th>3</th>\n",
       "      <td>F</td>\n",
       "      <td>AT</td>\n",
       "      <td>2014</td>\n",
       "      <td>1641055.0</td>\n",
       "      <td>Austria</td>\n",
       "    </tr>\n",
       "    <tr>\n",
       "      <th>4</th>\n",
       "      <td>F</td>\n",
       "      <td>AT</td>\n",
       "      <td>2015</td>\n",
       "      <td>2130973.0</td>\n",
       "      <td>Austria</td>\n",
       "    </tr>\n",
       "    <tr>\n",
       "      <th>...</th>\n",
       "      <td>...</td>\n",
       "      <td>...</td>\n",
       "      <td>...</td>\n",
       "      <td>...</td>\n",
       "      <td>...</td>\n",
       "    </tr>\n",
       "    <tr>\n",
       "      <th>24134</th>\n",
       "      <td>ZR99_99</td>\n",
       "      <td>SK</td>\n",
       "      <td>2020</td>\n",
       "      <td>NaN</td>\n",
       "      <td>Slovakia</td>\n",
       "    </tr>\n",
       "    <tr>\n",
       "      <th>24135</th>\n",
       "      <td>ZR99_99</td>\n",
       "      <td>TR</td>\n",
       "      <td>2017</td>\n",
       "      <td>485633.0</td>\n",
       "      <td>Turkey</td>\n",
       "    </tr>\n",
       "    <tr>\n",
       "      <th>24136</th>\n",
       "      <td>ZR99_99</td>\n",
       "      <td>TR</td>\n",
       "      <td>2018</td>\n",
       "      <td>325643.0</td>\n",
       "      <td>Turkey</td>\n",
       "    </tr>\n",
       "    <tr>\n",
       "      <th>24137</th>\n",
       "      <td>ZR99_99</td>\n",
       "      <td>TR</td>\n",
       "      <td>2019</td>\n",
       "      <td>8326594.0</td>\n",
       "      <td>Turkey</td>\n",
       "    </tr>\n",
       "    <tr>\n",
       "      <th>24138</th>\n",
       "      <td>ZR99_99</td>\n",
       "      <td>TR</td>\n",
       "      <td>2020</td>\n",
       "      <td>0.0</td>\n",
       "      <td>Turkey</td>\n",
       "    </tr>\n",
       "  </tbody>\n",
       "</table>\n",
       "<p>24139 rows × 5 columns</p>\n",
       "</div>"
      ],
      "text/plain": [
       "      pesticid geo  TIME_PERIOD  OBS_VALUE country_name\n",
       "0            F  AT         2011  1544218.0      Austria\n",
       "1            F  AT         2012  1634371.0      Austria\n",
       "2            F  AT         2013  1492799.0      Austria\n",
       "3            F  AT         2014  1641055.0      Austria\n",
       "4            F  AT         2015  2130973.0      Austria\n",
       "...        ...  ..          ...        ...          ...\n",
       "24134  ZR99_99  SK         2020        NaN     Slovakia\n",
       "24135  ZR99_99  TR         2017   485633.0       Turkey\n",
       "24136  ZR99_99  TR         2018   325643.0       Turkey\n",
       "24137  ZR99_99  TR         2019  8326594.0       Turkey\n",
       "24138  ZR99_99  TR         2020        0.0       Turkey\n",
       "\n",
       "[24139 rows x 5 columns]"
      ]
     },
     "execution_count": 19,
     "metadata": {},
     "output_type": "execute_result"
    }
   ],
   "source": [
    "list_alpha_2 = [i.alpha_2 for i in list(pycountry.countries)]  # create a list of country codes\n",
    "print(\"Country codes\", list_alpha_2)\n",
    "\n",
    "def country_flag(df):\n",
    "    '''\n",
    "    df: Series\n",
    "    return: Full name of counry or \"Invalide code\"\n",
    "    '''\n",
    "    if (df['geo'] in list_alpha_2):\n",
    "        return pycountry.countries.get(alpha_2=df['geo']).name\n",
    "    else:\n",
    "        print(df['geo'])\n",
    "        return 'Invalid Code'\n",
    "\n",
    "df['country_name']=df.apply(country_flag, axis = 1)\n",
    "df"
   ]
  },
  {
   "cell_type": "markdown",
   "metadata": {
    "id": "Oxo8AJ7dqSa5"
   },
   "source": [
    "Let's add a new column with a pesticide name. We can get this information from: [https://ec.europa.eu/eurostat/data/databasehttps://ec.europa.eu/eurostat/data/database](https://ec.europa.eu/eurostat/data/databasehttps://ec.europa.eu/eurostat/data/database?utm_medium=Exinfluencer&utm_source=Exinfluencer&utm_content=000026UJ&utm_term=10006555&utm_id=NA-SkillsNetwork-Channel-SkillsNetworkQuickLabsdatascienceinagricultureprognosticationusingbyneuralnetwork28167412-2021-01-01).\n",
    "In order to do this, we should create a dictionary. Where a key is a pesticide code and a value is a pesticide name.\n"
   ]
  },
  {
   "cell_type": "code",
   "execution_count": 20,
   "metadata": {
    "id": "R_aT0rbLqSa6"
   },
   "outputs": [],
   "source": [
    "pes = {'F': 'Fungicides and bactericides',\n",
    "      'H': 'Herbicides, haulm destructors and moss killers',\n",
    "      'I': 'Insecticides and acaricides',\n",
    "      'M': 'Molluscicides',\n",
    "      'PGR': 'Plant growth regulators',\n",
    "      'ZR': 'Other plant protection products'}"
   ]
  },
  {
   "cell_type": "markdown",
   "metadata": {
    "id": "XUFV_gH8qSa7"
   },
   "source": [
    "Let's add a new column using mapping: **[pandas.Series.map()](https://pandas.pydata.org/pandas-docs/stable/reference/api/pandas.Series.map.html?utm_medium=Exinfluencer&utm_source=Exinfluencer&utm_content=000026UJ&utm_term=10006555&utm_id=NA-SkillsNetwork-Channel-SkillsNetworkQuickLabsdatascienceinagricultureprognosticationusingbyneuralnetwork28167412-2021-01-01)**.\n"
   ]
  },
  {
   "cell_type": "code",
   "execution_count": 21,
   "metadata": {
    "colab": {
     "base_uri": "https://localhost:8080/",
     "height": 419
    },
    "id": "w3WAbhSXqSa8",
    "outputId": "0caf0b97-e9c1-4e46-de76-05e895bedc5d"
   },
   "outputs": [
    {
     "data": {
      "text/html": [
       "<div>\n",
       "<style scoped>\n",
       "    .dataframe tbody tr th:only-of-type {\n",
       "        vertical-align: middle;\n",
       "    }\n",
       "\n",
       "    .dataframe tbody tr th {\n",
       "        vertical-align: top;\n",
       "    }\n",
       "\n",
       "    .dataframe thead th {\n",
       "        text-align: right;\n",
       "    }\n",
       "</style>\n",
       "<table border=\"1\" class=\"dataframe\">\n",
       "  <thead>\n",
       "    <tr style=\"text-align: right;\">\n",
       "      <th></th>\n",
       "      <th>pesticid</th>\n",
       "      <th>geo</th>\n",
       "      <th>TIME_PERIOD</th>\n",
       "      <th>OBS_VALUE</th>\n",
       "      <th>country_name</th>\n",
       "      <th>pesticid_name</th>\n",
       "    </tr>\n",
       "  </thead>\n",
       "  <tbody>\n",
       "    <tr>\n",
       "      <th>0</th>\n",
       "      <td>F</td>\n",
       "      <td>AT</td>\n",
       "      <td>2011</td>\n",
       "      <td>1544218.0</td>\n",
       "      <td>Austria</td>\n",
       "      <td>Fungicides and bactericides</td>\n",
       "    </tr>\n",
       "    <tr>\n",
       "      <th>1</th>\n",
       "      <td>F</td>\n",
       "      <td>AT</td>\n",
       "      <td>2012</td>\n",
       "      <td>1634371.0</td>\n",
       "      <td>Austria</td>\n",
       "      <td>Fungicides and bactericides</td>\n",
       "    </tr>\n",
       "    <tr>\n",
       "      <th>2</th>\n",
       "      <td>F</td>\n",
       "      <td>AT</td>\n",
       "      <td>2013</td>\n",
       "      <td>1492799.0</td>\n",
       "      <td>Austria</td>\n",
       "      <td>Fungicides and bactericides</td>\n",
       "    </tr>\n",
       "    <tr>\n",
       "      <th>3</th>\n",
       "      <td>F</td>\n",
       "      <td>AT</td>\n",
       "      <td>2014</td>\n",
       "      <td>1641055.0</td>\n",
       "      <td>Austria</td>\n",
       "      <td>Fungicides and bactericides</td>\n",
       "    </tr>\n",
       "    <tr>\n",
       "      <th>4</th>\n",
       "      <td>F</td>\n",
       "      <td>AT</td>\n",
       "      <td>2015</td>\n",
       "      <td>2130973.0</td>\n",
       "      <td>Austria</td>\n",
       "      <td>Fungicides and bactericides</td>\n",
       "    </tr>\n",
       "    <tr>\n",
       "      <th>...</th>\n",
       "      <td>...</td>\n",
       "      <td>...</td>\n",
       "      <td>...</td>\n",
       "      <td>...</td>\n",
       "      <td>...</td>\n",
       "      <td>...</td>\n",
       "    </tr>\n",
       "    <tr>\n",
       "      <th>24134</th>\n",
       "      <td>ZR99_99</td>\n",
       "      <td>SK</td>\n",
       "      <td>2020</td>\n",
       "      <td>NaN</td>\n",
       "      <td>Slovakia</td>\n",
       "      <td>NaN</td>\n",
       "    </tr>\n",
       "    <tr>\n",
       "      <th>24135</th>\n",
       "      <td>ZR99_99</td>\n",
       "      <td>TR</td>\n",
       "      <td>2017</td>\n",
       "      <td>485633.0</td>\n",
       "      <td>Turkey</td>\n",
       "      <td>NaN</td>\n",
       "    </tr>\n",
       "    <tr>\n",
       "      <th>24136</th>\n",
       "      <td>ZR99_99</td>\n",
       "      <td>TR</td>\n",
       "      <td>2018</td>\n",
       "      <td>325643.0</td>\n",
       "      <td>Turkey</td>\n",
       "      <td>NaN</td>\n",
       "    </tr>\n",
       "    <tr>\n",
       "      <th>24137</th>\n",
       "      <td>ZR99_99</td>\n",
       "      <td>TR</td>\n",
       "      <td>2019</td>\n",
       "      <td>8326594.0</td>\n",
       "      <td>Turkey</td>\n",
       "      <td>NaN</td>\n",
       "    </tr>\n",
       "    <tr>\n",
       "      <th>24138</th>\n",
       "      <td>ZR99_99</td>\n",
       "      <td>TR</td>\n",
       "      <td>2020</td>\n",
       "      <td>0.0</td>\n",
       "      <td>Turkey</td>\n",
       "      <td>NaN</td>\n",
       "    </tr>\n",
       "  </tbody>\n",
       "</table>\n",
       "<p>24139 rows × 6 columns</p>\n",
       "</div>"
      ],
      "text/plain": [
       "      pesticid geo  TIME_PERIOD  OBS_VALUE country_name  \\\n",
       "0            F  AT         2011  1544218.0      Austria   \n",
       "1            F  AT         2012  1634371.0      Austria   \n",
       "2            F  AT         2013  1492799.0      Austria   \n",
       "3            F  AT         2014  1641055.0      Austria   \n",
       "4            F  AT         2015  2130973.0      Austria   \n",
       "...        ...  ..          ...        ...          ...   \n",
       "24134  ZR99_99  SK         2020        NaN     Slovakia   \n",
       "24135  ZR99_99  TR         2017   485633.0       Turkey   \n",
       "24136  ZR99_99  TR         2018   325643.0       Turkey   \n",
       "24137  ZR99_99  TR         2019  8326594.0       Turkey   \n",
       "24138  ZR99_99  TR         2020        0.0       Turkey   \n",
       "\n",
       "                     pesticid_name  \n",
       "0      Fungicides and bactericides  \n",
       "1      Fungicides and bactericides  \n",
       "2      Fungicides and bactericides  \n",
       "3      Fungicides and bactericides  \n",
       "4      Fungicides and bactericides  \n",
       "...                            ...  \n",
       "24134                          NaN  \n",
       "24135                          NaN  \n",
       "24136                          NaN  \n",
       "24137                          NaN  \n",
       "24138                          NaN  \n",
       "\n",
       "[24139 rows x 6 columns]"
      ]
     },
     "execution_count": 21,
     "metadata": {},
     "output_type": "execute_result"
    }
   ],
   "source": [
    "df['pesticid_name'] = df['pesticid'].map(pes)\n",
    "df['pesticid_name'] = df['pesticid_name'].astype('category')\n",
    "df"
   ]
  },
  {
   "cell_type": "markdown",
   "metadata": {
    "id": "-r7vlIkEqSa8"
   },
   "source": [
    "As you can see, we got two new columns.\n"
   ]
  },
  {
   "cell_type": "markdown",
   "metadata": {
    "id": "i_mQr0LOSHXY"
   },
   "source": [
    "### Grouping data\n"
   ]
  },
  {
   "cell_type": "markdown",
   "metadata": {
    "id": "KWL0POcQSHXZ"
   },
   "source": [
    "Let's determine how many records of each pesticide category are in the DataSet **[pandas.Series.value_counts()](https://pandas.pydata.org/docs/reference/api/pandas.Series.value_counts.html?utm_medium=Exinfluencer&utm_source=Exinfluencer&utm_content=000026UJ&utm_term=10006555&utm_id=NA-SkillsNetwork-Channel-SkillsNetworkQuickLabsdatascienceinagricultureprognosticationusingbyneuralnetwork28167412-2021-01-01)** and show the results in a table **[pandas.Series.to_frame()](https://pandas.pydata.org/docs/reference/api/pandas.Series.to_frame.html?utm_medium=Exinfluencer&utm_source=Exinfluencer&utm_content=000026UJ&utm_term=10006555&utm_id=NA-SkillsNetwork-Channel-SkillsNetworkQuickLabsdatascienceinagricultureprognosticationusingbyneuralnetwork28167412-2021-01-01)**.\n"
   ]
  },
  {
   "cell_type": "code",
   "execution_count": 22,
   "metadata": {
    "colab": {
     "base_uri": "https://localhost:8080/",
     "height": 235
    },
    "id": "PZ4aqUwHSHXa",
    "outputId": "2186c47f-1305-4c79-cf3a-a84bdab30ef4"
   },
   "outputs": [
    {
     "data": {
      "text/html": [
       "<div>\n",
       "<style scoped>\n",
       "    .dataframe tbody tr th:only-of-type {\n",
       "        vertical-align: middle;\n",
       "    }\n",
       "\n",
       "    .dataframe tbody tr th {\n",
       "        vertical-align: top;\n",
       "    }\n",
       "\n",
       "    .dataframe thead th {\n",
       "        text-align: right;\n",
       "    }\n",
       "</style>\n",
       "<table border=\"1\" class=\"dataframe\">\n",
       "  <thead>\n",
       "    <tr style=\"text-align: right;\">\n",
       "      <th></th>\n",
       "      <th>pesticid_name</th>\n",
       "    </tr>\n",
       "  </thead>\n",
       "  <tbody>\n",
       "    <tr>\n",
       "      <th>Fungicides and bactericides</th>\n",
       "      <td>300</td>\n",
       "    </tr>\n",
       "    <tr>\n",
       "      <th>Herbicides, haulm destructors and moss killers</th>\n",
       "      <td>300</td>\n",
       "    </tr>\n",
       "    <tr>\n",
       "      <th>Insecticides and acaricides</th>\n",
       "      <td>300</td>\n",
       "    </tr>\n",
       "    <tr>\n",
       "      <th>Plant growth regulators</th>\n",
       "      <td>296</td>\n",
       "    </tr>\n",
       "    <tr>\n",
       "      <th>Other plant protection products</th>\n",
       "      <td>295</td>\n",
       "    </tr>\n",
       "    <tr>\n",
       "      <th>Molluscicides</th>\n",
       "      <td>292</td>\n",
       "    </tr>\n",
       "  </tbody>\n",
       "</table>\n",
       "</div>"
      ],
      "text/plain": [
       "                                                pesticid_name\n",
       "Fungicides and bactericides                               300\n",
       "Herbicides, haulm destructors and moss killers            300\n",
       "Insecticides and acaricides                               300\n",
       "Plant growth regulators                                   296\n",
       "Other plant protection products                           295\n",
       "Molluscicides                                             292"
      ]
     },
     "execution_count": 22,
     "metadata": {},
     "output_type": "execute_result"
    }
   ],
   "source": [
    "df['pesticid_name'].value_counts().to_frame()"
   ]
  },
  {
   "cell_type": "markdown",
   "metadata": {
    "id": "0SHq3BIBSHXe"
   },
   "source": [
    "For the convenience of displaying float data, you can specify a common output format for pandas DataFrame using **[pandas.options.display.float_format](https://pandas.pydata.org/pandas-docs/stable/user_guide/options.html?utm_medium=Exinfluencer&utm_source=Exinfluencer&utm_content=000026UJ&utm_term=10006555&utm_id=NA-SkillsNetwork-Channel-SkillsNetworkQuickLabsdatascienceinagricultureprognosticationusingbyneuralnetwork28167412-2021-01-01)**. These settings will be active throughout the pandas library session.\n"
   ]
  },
  {
   "cell_type": "code",
   "execution_count": 23,
   "metadata": {
    "colab": {
     "base_uri": "https://localhost:8080/",
     "height": 266
    },
    "id": "DQdnN-jVSHXg",
    "outputId": "846d14a7-0098-41ed-b44b-e2b9d714d80a"
   },
   "outputs": [
    {
     "data": {
      "text/html": [
       "<div>\n",
       "<style scoped>\n",
       "    .dataframe tbody tr th:only-of-type {\n",
       "        vertical-align: middle;\n",
       "    }\n",
       "\n",
       "    .dataframe tbody tr th {\n",
       "        vertical-align: top;\n",
       "    }\n",
       "\n",
       "    .dataframe thead th {\n",
       "        text-align: right;\n",
       "    }\n",
       "</style>\n",
       "<table border=\"1\" class=\"dataframe\">\n",
       "  <thead>\n",
       "    <tr style=\"text-align: right;\">\n",
       "      <th></th>\n",
       "      <th>OBS_VALUE</th>\n",
       "    </tr>\n",
       "    <tr>\n",
       "      <th>pesticid_name</th>\n",
       "      <th></th>\n",
       "    </tr>\n",
       "  </thead>\n",
       "  <tbody>\n",
       "    <tr>\n",
       "      <th>Fungicides and bactericides</th>\n",
       "      <td>1,617,952,898</td>\n",
       "    </tr>\n",
       "    <tr>\n",
       "      <th>Herbicides, haulm destructors and moss killers</th>\n",
       "      <td>1,306,872,044</td>\n",
       "    </tr>\n",
       "    <tr>\n",
       "      <th>Insecticides and acaricides</th>\n",
       "      <td>430,635,465</td>\n",
       "    </tr>\n",
       "    <tr>\n",
       "      <th>Other plant protection products</th>\n",
       "      <td>369,042,032</td>\n",
       "    </tr>\n",
       "    <tr>\n",
       "      <th>Plant growth regulators</th>\n",
       "      <td>135,580,280</td>\n",
       "    </tr>\n",
       "    <tr>\n",
       "      <th>Molluscicides</th>\n",
       "      <td>13,236,352</td>\n",
       "    </tr>\n",
       "  </tbody>\n",
       "</table>\n",
       "</div>"
      ],
      "text/plain": [
       "                                                   OBS_VALUE\n",
       "pesticid_name                                               \n",
       "Fungicides and bactericides                    1,617,952,898\n",
       "Herbicides, haulm destructors and moss killers 1,306,872,044\n",
       "Insecticides and acaricides                      430,635,465\n",
       "Other plant protection products                  369,042,032\n",
       "Plant growth regulators                          135,580,280\n",
       "Molluscicides                                     13,236,352"
      ]
     },
     "execution_count": 23,
     "metadata": {},
     "output_type": "execute_result"
    }
   ],
   "source": [
    "pd.options.display.float_format = '{:,.0f}'.format\n",
    "df.groupby('pesticid_name')['OBS_VALUE'].sum().sort_values(ascending=False).to_frame()"
   ]
  },
  {
   "cell_type": "markdown",
   "metadata": {
    "id": "FZZPnZDpSHXg"
   },
   "source": [
    "As you can see, most of saled pesticides belong to the category \"Fungicides and bactericides\".\n"
   ]
  },
  {
   "cell_type": "markdown",
   "metadata": {
    "id": "tsrTmTcQSHXh"
   },
   "source": [
    "### DataSet transformation\n"
   ]
  },
  {
   "cell_type": "markdown",
   "metadata": {
    "id": "QdR5eVC1SHXi"
   },
   "source": [
    "Let's try to predict Fungicides and bactericides sales based on еру sales of other pesticides. To do this, we need to remove all NaN data (**[pandas.DataFrame.dropna()](https://pandas.pydata.org/docs/reference/api/pandas.DataFrame.dropna.htmlhttps://pandas.pydata.org/docs/reference/api/pandas.DataFrame.dropna.html?utm_medium=Exinfluencer&utm_source=Exinfluencer&utm_content=000026UJ&utm_term=10006555&utm_id=NA-SkillsNetwork-Channel-SkillsNetworkQuickLabsdatascienceinagricultureprognosticationusingbyneuralnetwork28167412-2021-01-01)**) and transform our DataSet using a pyvot table (**[pivot_table()](https://pandas.pydata.org/docs/reference/api/pandas.DataFrame.pivot_table.html?utm_medium=Exinfluencer&utm_source=Exinfluencer&utm_content=000026UJ&utm_term=10006555&utm_id=NA-SkillsNetwork-Channel-SkillsNetworkQuickLabsdatascienceinagricultureprognosticationusingbyneuralnetwork28167412-2021-01-01&highlight=pivot_table#pandas.DataFrame.pivot_table)**).\n"
   ]
  },
  {
   "cell_type": "code",
   "execution_count": 24,
   "metadata": {
    "colab": {
     "base_uri": "https://localhost:8080/",
     "height": 419
    },
    "id": "AgK7aJbIqSbA",
    "outputId": "0cb3f94d-3ce1-419a-da4f-1cfbca913832"
   },
   "outputs": [
    {
     "data": {
      "text/html": [
       "<div>\n",
       "<style scoped>\n",
       "    .dataframe tbody tr th:only-of-type {\n",
       "        vertical-align: middle;\n",
       "    }\n",
       "\n",
       "    .dataframe tbody tr th {\n",
       "        vertical-align: top;\n",
       "    }\n",
       "\n",
       "    .dataframe thead th {\n",
       "        text-align: right;\n",
       "    }\n",
       "</style>\n",
       "<table border=\"1\" class=\"dataframe\">\n",
       "  <thead>\n",
       "    <tr style=\"text-align: right;\">\n",
       "      <th></th>\n",
       "      <th>pesticid</th>\n",
       "      <th>geo</th>\n",
       "      <th>TIME_PERIOD</th>\n",
       "      <th>OBS_VALUE</th>\n",
       "      <th>country_name</th>\n",
       "      <th>pesticid_name</th>\n",
       "    </tr>\n",
       "  </thead>\n",
       "  <tbody>\n",
       "    <tr>\n",
       "      <th>0</th>\n",
       "      <td>F</td>\n",
       "      <td>AT</td>\n",
       "      <td>2011</td>\n",
       "      <td>1,544,218</td>\n",
       "      <td>Austria</td>\n",
       "      <td>Fungicides and bactericides</td>\n",
       "    </tr>\n",
       "    <tr>\n",
       "      <th>1</th>\n",
       "      <td>F</td>\n",
       "      <td>AT</td>\n",
       "      <td>2012</td>\n",
       "      <td>1,634,371</td>\n",
       "      <td>Austria</td>\n",
       "      <td>Fungicides and bactericides</td>\n",
       "    </tr>\n",
       "    <tr>\n",
       "      <th>2</th>\n",
       "      <td>F</td>\n",
       "      <td>AT</td>\n",
       "      <td>2013</td>\n",
       "      <td>1,492,799</td>\n",
       "      <td>Austria</td>\n",
       "      <td>Fungicides and bactericides</td>\n",
       "    </tr>\n",
       "    <tr>\n",
       "      <th>3</th>\n",
       "      <td>F</td>\n",
       "      <td>AT</td>\n",
       "      <td>2014</td>\n",
       "      <td>1,641,055</td>\n",
       "      <td>Austria</td>\n",
       "      <td>Fungicides and bactericides</td>\n",
       "    </tr>\n",
       "    <tr>\n",
       "      <th>4</th>\n",
       "      <td>F</td>\n",
       "      <td>AT</td>\n",
       "      <td>2015</td>\n",
       "      <td>2,130,973</td>\n",
       "      <td>Austria</td>\n",
       "      <td>Fungicides and bactericides</td>\n",
       "    </tr>\n",
       "    <tr>\n",
       "      <th>...</th>\n",
       "      <td>...</td>\n",
       "      <td>...</td>\n",
       "      <td>...</td>\n",
       "      <td>...</td>\n",
       "      <td>...</td>\n",
       "      <td>...</td>\n",
       "    </tr>\n",
       "    <tr>\n",
       "      <th>24134</th>\n",
       "      <td>ZR99_99</td>\n",
       "      <td>SK</td>\n",
       "      <td>2020</td>\n",
       "      <td>NaN</td>\n",
       "      <td>Slovakia</td>\n",
       "      <td>NaN</td>\n",
       "    </tr>\n",
       "    <tr>\n",
       "      <th>24135</th>\n",
       "      <td>ZR99_99</td>\n",
       "      <td>TR</td>\n",
       "      <td>2017</td>\n",
       "      <td>485,633</td>\n",
       "      <td>Turkey</td>\n",
       "      <td>NaN</td>\n",
       "    </tr>\n",
       "    <tr>\n",
       "      <th>24136</th>\n",
       "      <td>ZR99_99</td>\n",
       "      <td>TR</td>\n",
       "      <td>2018</td>\n",
       "      <td>325,643</td>\n",
       "      <td>Turkey</td>\n",
       "      <td>NaN</td>\n",
       "    </tr>\n",
       "    <tr>\n",
       "      <th>24137</th>\n",
       "      <td>ZR99_99</td>\n",
       "      <td>TR</td>\n",
       "      <td>2019</td>\n",
       "      <td>8,326,594</td>\n",
       "      <td>Turkey</td>\n",
       "      <td>NaN</td>\n",
       "    </tr>\n",
       "    <tr>\n",
       "      <th>24138</th>\n",
       "      <td>ZR99_99</td>\n",
       "      <td>TR</td>\n",
       "      <td>2020</td>\n",
       "      <td>0</td>\n",
       "      <td>Turkey</td>\n",
       "      <td>NaN</td>\n",
       "    </tr>\n",
       "  </tbody>\n",
       "</table>\n",
       "<p>24139 rows × 6 columns</p>\n",
       "</div>"
      ],
      "text/plain": [
       "      pesticid geo  TIME_PERIOD  OBS_VALUE country_name  \\\n",
       "0            F  AT         2011  1,544,218      Austria   \n",
       "1            F  AT         2012  1,634,371      Austria   \n",
       "2            F  AT         2013  1,492,799      Austria   \n",
       "3            F  AT         2014  1,641,055      Austria   \n",
       "4            F  AT         2015  2,130,973      Austria   \n",
       "...        ...  ..          ...        ...          ...   \n",
       "24134  ZR99_99  SK         2020        NaN     Slovakia   \n",
       "24135  ZR99_99  TR         2017    485,633       Turkey   \n",
       "24136  ZR99_99  TR         2018    325,643       Turkey   \n",
       "24137  ZR99_99  TR         2019  8,326,594       Turkey   \n",
       "24138  ZR99_99  TR         2020          0       Turkey   \n",
       "\n",
       "                     pesticid_name  \n",
       "0      Fungicides and bactericides  \n",
       "1      Fungicides and bactericides  \n",
       "2      Fungicides and bactericides  \n",
       "3      Fungicides and bactericides  \n",
       "4      Fungicides and bactericides  \n",
       "...                            ...  \n",
       "24134                          NaN  \n",
       "24135                          NaN  \n",
       "24136                          NaN  \n",
       "24137                          NaN  \n",
       "24138                          NaN  \n",
       "\n",
       "[24139 rows x 6 columns]"
      ]
     },
     "execution_count": 24,
     "metadata": {},
     "output_type": "execute_result"
    }
   ],
   "source": [
    "df"
   ]
  },
  {
   "cell_type": "code",
   "execution_count": 25,
   "metadata": {
    "colab": {
     "base_uri": "https://localhost:8080/",
     "height": 419
    },
    "id": "axwD0VfXqSbA",
    "outputId": "ca4a8fe8-be11-4395-d2f0-5cc35bdbe54b"
   },
   "outputs": [
    {
     "data": {
      "text/html": [
       "<div>\n",
       "<style scoped>\n",
       "    .dataframe tbody tr th:only-of-type {\n",
       "        vertical-align: middle;\n",
       "    }\n",
       "\n",
       "    .dataframe tbody tr th {\n",
       "        vertical-align: top;\n",
       "    }\n",
       "\n",
       "    .dataframe thead th {\n",
       "        text-align: right;\n",
       "    }\n",
       "</style>\n",
       "<table border=\"1\" class=\"dataframe\">\n",
       "  <thead>\n",
       "    <tr style=\"text-align: right;\">\n",
       "      <th></th>\n",
       "      <th>pesticid</th>\n",
       "      <th>geo</th>\n",
       "      <th>TIME_PERIOD</th>\n",
       "      <th>OBS_VALUE</th>\n",
       "      <th>country_name</th>\n",
       "      <th>pesticid_name</th>\n",
       "    </tr>\n",
       "  </thead>\n",
       "  <tbody>\n",
       "    <tr>\n",
       "      <th>0</th>\n",
       "      <td>F</td>\n",
       "      <td>AT</td>\n",
       "      <td>2011</td>\n",
       "      <td>1,544,218</td>\n",
       "      <td>Austria</td>\n",
       "      <td>Fungicides and bactericides</td>\n",
       "    </tr>\n",
       "    <tr>\n",
       "      <th>1</th>\n",
       "      <td>F</td>\n",
       "      <td>AT</td>\n",
       "      <td>2012</td>\n",
       "      <td>1,634,371</td>\n",
       "      <td>Austria</td>\n",
       "      <td>Fungicides and bactericides</td>\n",
       "    </tr>\n",
       "    <tr>\n",
       "      <th>2</th>\n",
       "      <td>F</td>\n",
       "      <td>AT</td>\n",
       "      <td>2013</td>\n",
       "      <td>1,492,799</td>\n",
       "      <td>Austria</td>\n",
       "      <td>Fungicides and bactericides</td>\n",
       "    </tr>\n",
       "    <tr>\n",
       "      <th>3</th>\n",
       "      <td>F</td>\n",
       "      <td>AT</td>\n",
       "      <td>2014</td>\n",
       "      <td>1,641,055</td>\n",
       "      <td>Austria</td>\n",
       "      <td>Fungicides and bactericides</td>\n",
       "    </tr>\n",
       "    <tr>\n",
       "      <th>4</th>\n",
       "      <td>F</td>\n",
       "      <td>AT</td>\n",
       "      <td>2015</td>\n",
       "      <td>2,130,973</td>\n",
       "      <td>Austria</td>\n",
       "      <td>Fungicides and bactericides</td>\n",
       "    </tr>\n",
       "    <tr>\n",
       "      <th>...</th>\n",
       "      <td>...</td>\n",
       "      <td>...</td>\n",
       "      <td>...</td>\n",
       "      <td>...</td>\n",
       "      <td>...</td>\n",
       "      <td>...</td>\n",
       "    </tr>\n",
       "    <tr>\n",
       "      <th>22281</th>\n",
       "      <td>ZR</td>\n",
       "      <td>TR</td>\n",
       "      <td>2020</td>\n",
       "      <td>3,676,116</td>\n",
       "      <td>Turkey</td>\n",
       "      <td>Other plant protection products</td>\n",
       "    </tr>\n",
       "    <tr>\n",
       "      <th>22282</th>\n",
       "      <td>ZR</td>\n",
       "      <td>GB</td>\n",
       "      <td>2011</td>\n",
       "      <td>17,914</td>\n",
       "      <td>United Kingdom</td>\n",
       "      <td>Other plant protection products</td>\n",
       "    </tr>\n",
       "    <tr>\n",
       "      <th>22283</th>\n",
       "      <td>ZR</td>\n",
       "      <td>GB</td>\n",
       "      <td>2012</td>\n",
       "      <td>10,805</td>\n",
       "      <td>United Kingdom</td>\n",
       "      <td>Other plant protection products</td>\n",
       "    </tr>\n",
       "    <tr>\n",
       "      <th>22288</th>\n",
       "      <td>ZR</td>\n",
       "      <td>GB</td>\n",
       "      <td>2017</td>\n",
       "      <td>270,493</td>\n",
       "      <td>United Kingdom</td>\n",
       "      <td>Other plant protection products</td>\n",
       "    </tr>\n",
       "    <tr>\n",
       "      <th>22290</th>\n",
       "      <td>ZR</td>\n",
       "      <td>GB</td>\n",
       "      <td>2019</td>\n",
       "      <td>255,061</td>\n",
       "      <td>United Kingdom</td>\n",
       "      <td>Other plant protection products</td>\n",
       "    </tr>\n",
       "  </tbody>\n",
       "</table>\n",
       "<p>1659 rows × 6 columns</p>\n",
       "</div>"
      ],
      "text/plain": [
       "      pesticid geo  TIME_PERIOD  OBS_VALUE    country_name  \\\n",
       "0            F  AT         2011  1,544,218         Austria   \n",
       "1            F  AT         2012  1,634,371         Austria   \n",
       "2            F  AT         2013  1,492,799         Austria   \n",
       "3            F  AT         2014  1,641,055         Austria   \n",
       "4            F  AT         2015  2,130,973         Austria   \n",
       "...        ...  ..          ...        ...             ...   \n",
       "22281       ZR  TR         2020  3,676,116          Turkey   \n",
       "22282       ZR  GB         2011     17,914  United Kingdom   \n",
       "22283       ZR  GB         2012     10,805  United Kingdom   \n",
       "22288       ZR  GB         2017    270,493  United Kingdom   \n",
       "22290       ZR  GB         2019    255,061  United Kingdom   \n",
       "\n",
       "                         pesticid_name  \n",
       "0          Fungicides and bactericides  \n",
       "1          Fungicides and bactericides  \n",
       "2          Fungicides and bactericides  \n",
       "3          Fungicides and bactericides  \n",
       "4          Fungicides and bactericides  \n",
       "...                                ...  \n",
       "22281  Other plant protection products  \n",
       "22282  Other plant protection products  \n",
       "22283  Other plant protection products  \n",
       "22288  Other plant protection products  \n",
       "22290  Other plant protection products  \n",
       "\n",
       "[1659 rows x 6 columns]"
      ]
     },
     "execution_count": 25,
     "metadata": {},
     "output_type": "execute_result"
    }
   ],
   "source": [
    "df = df.dropna()\n",
    "df"
   ]
  },
  {
   "cell_type": "code",
   "execution_count": 26,
   "metadata": {
    "colab": {
     "base_uri": "https://localhost:8080/",
     "height": 582
    },
    "id": "srLOl3L1SHXj",
    "outputId": "e2cf793c-d4da-4c3a-b6fd-1d8aca90e193"
   },
   "outputs": [
    {
     "data": {
      "text/html": [
       "<div>\n",
       "<style scoped>\n",
       "    .dataframe tbody tr th:only-of-type {\n",
       "        vertical-align: middle;\n",
       "    }\n",
       "\n",
       "    .dataframe tbody tr th {\n",
       "        vertical-align: top;\n",
       "    }\n",
       "\n",
       "    .dataframe thead th {\n",
       "        text-align: right;\n",
       "    }\n",
       "</style>\n",
       "<table border=\"1\" class=\"dataframe\">\n",
       "  <thead>\n",
       "    <tr style=\"text-align: right;\">\n",
       "      <th></th>\n",
       "      <th>pesticid_name</th>\n",
       "      <th>Fungicides and bactericides</th>\n",
       "      <th>Herbicides, haulm destructors and moss killers</th>\n",
       "      <th>Insecticides and acaricides</th>\n",
       "      <th>Molluscicides</th>\n",
       "      <th>Other plant protection products</th>\n",
       "      <th>Plant growth regulators</th>\n",
       "    </tr>\n",
       "    <tr>\n",
       "      <th>country_name</th>\n",
       "      <th>TIME_PERIOD</th>\n",
       "      <th></th>\n",
       "      <th></th>\n",
       "      <th></th>\n",
       "      <th></th>\n",
       "      <th></th>\n",
       "      <th></th>\n",
       "    </tr>\n",
       "  </thead>\n",
       "  <tbody>\n",
       "    <tr>\n",
       "      <th rowspan=\"5\" valign=\"top\">Austria</th>\n",
       "      <th>2011</th>\n",
       "      <td>1544218</td>\n",
       "      <td>1505163</td>\n",
       "      <td>247982</td>\n",
       "      <td>33428</td>\n",
       "      <td>58114</td>\n",
       "      <td>59369</td>\n",
       "    </tr>\n",
       "    <tr>\n",
       "      <th>2012</th>\n",
       "      <td>1634371</td>\n",
       "      <td>1544519</td>\n",
       "      <td>244079</td>\n",
       "      <td>23653</td>\n",
       "      <td>43028</td>\n",
       "      <td>67373</td>\n",
       "    </tr>\n",
       "    <tr>\n",
       "      <th>2013</th>\n",
       "      <td>1492799</td>\n",
       "      <td>1227017</td>\n",
       "      <td>238252</td>\n",
       "      <td>13471</td>\n",
       "      <td>80517</td>\n",
       "      <td>45386</td>\n",
       "    </tr>\n",
       "    <tr>\n",
       "      <th>2014</th>\n",
       "      <td>1641055</td>\n",
       "      <td>1375815</td>\n",
       "      <td>240298</td>\n",
       "      <td>16180</td>\n",
       "      <td>46345</td>\n",
       "      <td>53530</td>\n",
       "    </tr>\n",
       "    <tr>\n",
       "      <th>2015</th>\n",
       "      <td>2130973</td>\n",
       "      <td>1317219</td>\n",
       "      <td>195649</td>\n",
       "      <td>21214</td>\n",
       "      <td>43840</td>\n",
       "      <td>68722</td>\n",
       "    </tr>\n",
       "    <tr>\n",
       "      <th>...</th>\n",
       "      <th>...</th>\n",
       "      <td>...</td>\n",
       "      <td>...</td>\n",
       "      <td>...</td>\n",
       "      <td>...</td>\n",
       "      <td>...</td>\n",
       "      <td>...</td>\n",
       "    </tr>\n",
       "    <tr>\n",
       "      <th rowspan=\"5\" valign=\"top\">United Kingdom</th>\n",
       "      <th>2016</th>\n",
       "      <td>5330003</td>\n",
       "      <td>9810278</td>\n",
       "      <td>347876</td>\n",
       "      <td>0</td>\n",
       "      <td>0</td>\n",
       "      <td>0</td>\n",
       "    </tr>\n",
       "    <tr>\n",
       "      <th>2017</th>\n",
       "      <td>5484053</td>\n",
       "      <td>9681731</td>\n",
       "      <td>433843</td>\n",
       "      <td>0</td>\n",
       "      <td>270493</td>\n",
       "      <td>0</td>\n",
       "    </tr>\n",
       "    <tr>\n",
       "      <th>2018</th>\n",
       "      <td>4492460</td>\n",
       "      <td>10891852</td>\n",
       "      <td>131984</td>\n",
       "      <td>0</td>\n",
       "      <td>0</td>\n",
       "      <td>0</td>\n",
       "    </tr>\n",
       "    <tr>\n",
       "      <th>2019</th>\n",
       "      <td>6056984</td>\n",
       "      <td>9890402</td>\n",
       "      <td>226423</td>\n",
       "      <td>0</td>\n",
       "      <td>255061</td>\n",
       "      <td>0</td>\n",
       "    </tr>\n",
       "    <tr>\n",
       "      <th>2020</th>\n",
       "      <td>0</td>\n",
       "      <td>0</td>\n",
       "      <td>0</td>\n",
       "      <td>0</td>\n",
       "      <td>0</td>\n",
       "      <td>0</td>\n",
       "    </tr>\n",
       "  </tbody>\n",
       "</table>\n",
       "<p>320 rows × 6 columns</p>\n",
       "</div>"
      ],
      "text/plain": [
       "pesticid_name               Fungicides and bactericides  \\\n",
       "country_name   TIME_PERIOD                                \n",
       "Austria        2011                             1544218   \n",
       "               2012                             1634371   \n",
       "               2013                             1492799   \n",
       "               2014                             1641055   \n",
       "               2015                             2130973   \n",
       "...                                                 ...   \n",
       "United Kingdom 2016                             5330003   \n",
       "               2017                             5484053   \n",
       "               2018                             4492460   \n",
       "               2019                             6056984   \n",
       "               2020                                   0   \n",
       "\n",
       "pesticid_name               Herbicides, haulm destructors and moss killers  \\\n",
       "country_name   TIME_PERIOD                                                   \n",
       "Austria        2011                                                1505163   \n",
       "               2012                                                1544519   \n",
       "               2013                                                1227017   \n",
       "               2014                                                1375815   \n",
       "               2015                                                1317219   \n",
       "...                                                                    ...   \n",
       "United Kingdom 2016                                                9810278   \n",
       "               2017                                                9681731   \n",
       "               2018                                               10891852   \n",
       "               2019                                                9890402   \n",
       "               2020                                                      0   \n",
       "\n",
       "pesticid_name               Insecticides and acaricides  Molluscicides  \\\n",
       "country_name   TIME_PERIOD                                               \n",
       "Austria        2011                              247982          33428   \n",
       "               2012                              244079          23653   \n",
       "               2013                              238252          13471   \n",
       "               2014                              240298          16180   \n",
       "               2015                              195649          21214   \n",
       "...                                                 ...            ...   \n",
       "United Kingdom 2016                              347876              0   \n",
       "               2017                              433843              0   \n",
       "               2018                              131984              0   \n",
       "               2019                              226423              0   \n",
       "               2020                                   0              0   \n",
       "\n",
       "pesticid_name               Other plant protection products  \\\n",
       "country_name   TIME_PERIOD                                    \n",
       "Austria        2011                                   58114   \n",
       "               2012                                   43028   \n",
       "               2013                                   80517   \n",
       "               2014                                   46345   \n",
       "               2015                                   43840   \n",
       "...                                                     ...   \n",
       "United Kingdom 2016                                       0   \n",
       "               2017                                  270493   \n",
       "               2018                                       0   \n",
       "               2019                                  255061   \n",
       "               2020                                       0   \n",
       "\n",
       "pesticid_name               Plant growth regulators  \n",
       "country_name   TIME_PERIOD                           \n",
       "Austria        2011                           59369  \n",
       "               2012                           67373  \n",
       "               2013                           45386  \n",
       "               2014                           53530  \n",
       "               2015                           68722  \n",
       "...                                             ...  \n",
       "United Kingdom 2016                               0  \n",
       "               2017                               0  \n",
       "               2018                               0  \n",
       "               2019                               0  \n",
       "               2020                               0  \n",
       "\n",
       "[320 rows x 6 columns]"
      ]
     },
     "execution_count": 26,
     "metadata": {},
     "output_type": "execute_result"
    }
   ],
   "source": [
    "p_df = df.pivot_table(values='OBS_VALUE', index= [ 'country_name', 'TIME_PERIOD',], columns=['pesticid_name'], aggfunc=np.sum, margins=False, dropna=False, fill_value=0)\n",
    "p_df"
   ]
  },
  {
   "cell_type": "markdown",
   "metadata": {
    "id": "Pr5jMO0JSHXk"
   },
   "source": [
    "We created a new DataSet that will be used for forecasting. Let's visualize this data by **[pandas.DataFrame.plot()](https://pandas.pydata.org/docs/reference/api/pandas.DataFrame.plot.html?utm_medium=Exinfluencer&utm_source=Exinfluencer&utm_content=000026UJ&utm_term=10006555&utm_id=NA-SkillsNetwork-Channel-SkillsNetworkQuickLabsdatascienceinagricultureprognosticationusingbyneuralnetwork28167412-2021-01-01&highlight=plot#pandas.DataFrame.plot)**. It should be noted that pandas incapsulate matplotlib library and inherit the function plot(). Therefore, to show this plot, we need to import matplotlib library and apply function **[matplotlib.pyplot.show()](https://matplotlib.org/stable/api/\\_as_gen/matplotlib.pyplot.show.html?utm_medium=Exinfluencer&utm_source=Exinfluencer&utm_content=000026UJ&utm_term=10006555&utm_id=NA-SkillsNetwork-Channel-SkillsNetworkQuickLabsdatascienceinagricultureprognosticationusingbyneuralnetwork28167412-2021-01-01)**.\n"
   ]
  },
  {
   "cell_type": "code",
   "execution_count": 27,
   "metadata": {
    "colab": {
     "base_uri": "https://localhost:8080/",
     "height": 359
    },
    "id": "ImvqvoklSHXk",
    "outputId": "c646d970-0ed7-4496-e741-956d476c6880"
   },
   "outputs": [
    {
     "data": {
      "image/png": "[encoded data removed]",
      "text/plain": [
       "<Figure size 432x288 with 1 Axes>"
      ]
     },
     "metadata": {
      "needs_background": "light"
     },
     "output_type": "display_data"
    }
   ],
   "source": [
    "p_df.plot()\n",
    "import matplotlib.pyplot as plt\n",
    "plt.xticks(rotation=45)\n",
    "plt.show()"
   ]
  },
  {
   "cell_type": "markdown",
   "metadata": {
    "id": "fCxqG8YISHXm"
   },
   "source": [
    "## Forecasting\n"
   ]
  },
  {
   "cell_type": "markdown",
   "metadata": {
    "id": "K5u4kw0pSHXn"
   },
   "source": [
    "### Hypothesis creation\n"
   ]
  },
  {
   "cell_type": "markdown",
   "metadata": {
    "id": "Rx9pIFk5SHXn"
   },
   "source": [
    "Before making a forecast, you should first determine the target (output) field for which the forecast will be built. The next step is to create a hypothesis that involves determining the input fields which our target depends on. Let's try to make a prediction about Fungicides and bactericides sales. We can propose the following hypothesis: sales depend on the sales of other pesticides.\n",
    "\n",
    "To check this hypothesis, we should make a correlation analysis using **[pandas.DataFrame.corr()](https://pandas.pydata.org/pandas-docs/stable/reference/api/pandas.DataFrame.corr.html?utm_medium=Exinfluencer&utm_source=Exinfluencer&utm_content=000026UJ&utm_term=10006555&utm_id=NA-SkillsNetwork-Channel-SkillsNetworkQuickLabsdatascienceinagricultureprognosticationusingbyneuralnetwork28167412-2021-01-01&highlight=corr#pandas-dataframe-corr)**.\n"
   ]
  },
  {
   "cell_type": "code",
   "execution_count": 28,
   "metadata": {
    "colab": {
     "base_uri": "https://localhost:8080/",
     "height": 497
    },
    "id": "oviiJwuWSHXo",
    "outputId": "c6132ecc-8ad5-4056-e116-38c91652bd9d"
   },
   "outputs": [
    {
     "data": {
      "text/html": [
       "<div>\n",
       "<style scoped>\n",
       "    .dataframe tbody tr th:only-of-type {\n",
       "        vertical-align: middle;\n",
       "    }\n",
       "\n",
       "    .dataframe tbody tr th {\n",
       "        vertical-align: top;\n",
       "    }\n",
       "\n",
       "    .dataframe thead th {\n",
       "        text-align: right;\n",
       "    }\n",
       "</style>\n",
       "<table border=\"1\" class=\"dataframe\">\n",
       "  <thead>\n",
       "    <tr style=\"text-align: right;\">\n",
       "      <th>pesticid_name</th>\n",
       "      <th>Fungicides and bactericides</th>\n",
       "      <th>Herbicides, haulm destructors and moss killers</th>\n",
       "      <th>Insecticides and acaricides</th>\n",
       "      <th>Molluscicides</th>\n",
       "      <th>Other plant protection products</th>\n",
       "      <th>Plant growth regulators</th>\n",
       "    </tr>\n",
       "    <tr>\n",
       "      <th>pesticid_name</th>\n",
       "      <th></th>\n",
       "      <th></th>\n",
       "      <th></th>\n",
       "      <th></th>\n",
       "      <th></th>\n",
       "      <th></th>\n",
       "    </tr>\n",
       "  </thead>\n",
       "  <tbody>\n",
       "    <tr>\n",
       "      <th>Fungicides and bactericides</th>\n",
       "      <td>1.00</td>\n",
       "      <td>0.76</td>\n",
       "      <td>0.53</td>\n",
       "      <td>0.60</td>\n",
       "      <td>0.81</td>\n",
       "      <td>0.45</td>\n",
       "    </tr>\n",
       "    <tr>\n",
       "      <th>Herbicides, haulm destructors and moss killers</th>\n",
       "      <td>0.76</td>\n",
       "      <td>1.00</td>\n",
       "      <td>0.60</td>\n",
       "      <td>0.79</td>\n",
       "      <td>0.36</td>\n",
       "      <td>0.82</td>\n",
       "    </tr>\n",
       "    <tr>\n",
       "      <th>Insecticides and acaricides</th>\n",
       "      <td>0.53</td>\n",
       "      <td>0.60</td>\n",
       "      <td>1.00</td>\n",
       "      <td>0.41</td>\n",
       "      <td>0.37</td>\n",
       "      <td>0.65</td>\n",
       "    </tr>\n",
       "    <tr>\n",
       "      <th>Molluscicides</th>\n",
       "      <td>0.60</td>\n",
       "      <td>0.79</td>\n",
       "      <td>0.41</td>\n",
       "      <td>1.00</td>\n",
       "      <td>0.24</td>\n",
       "      <td>0.69</td>\n",
       "    </tr>\n",
       "    <tr>\n",
       "      <th>Other plant protection products</th>\n",
       "      <td>0.81</td>\n",
       "      <td>0.36</td>\n",
       "      <td>0.37</td>\n",
       "      <td>0.24</td>\n",
       "      <td>1.00</td>\n",
       "      <td>0.07</td>\n",
       "    </tr>\n",
       "    <tr>\n",
       "      <th>Plant growth regulators</th>\n",
       "      <td>0.45</td>\n",
       "      <td>0.82</td>\n",
       "      <td>0.65</td>\n",
       "      <td>0.69</td>\n",
       "      <td>0.07</td>\n",
       "      <td>1.00</td>\n",
       "    </tr>\n",
       "  </tbody>\n",
       "</table>\n",
       "</div>"
      ],
      "text/plain": [
       "pesticid_name                                   Fungicides and bactericides  \\\n",
       "pesticid_name                                                                 \n",
       "Fungicides and bactericides                                            1.00   \n",
       "Herbicides, haulm destructors and moss killers                         0.76   \n",
       "Insecticides and acaricides                                            0.53   \n",
       "Molluscicides                                                          0.60   \n",
       "Other plant protection products                                        0.81   \n",
       "Plant growth regulators                                                0.45   \n",
       "\n",
       "pesticid_name                                   Herbicides, haulm destructors and moss killers  \\\n",
       "pesticid_name                                                                                    \n",
       "Fungicides and bactericides                                                               0.76   \n",
       "Herbicides, haulm destructors and moss killers                                            1.00   \n",
       "Insecticides and acaricides                                                               0.60   \n",
       "Molluscicides                                                                             0.79   \n",
       "Other plant protection products                                                           0.36   \n",
       "Plant growth regulators                                                                   0.82   \n",
       "\n",
       "pesticid_name                                   Insecticides and acaricides  \\\n",
       "pesticid_name                                                                 \n",
       "Fungicides and bactericides                                            0.53   \n",
       "Herbicides, haulm destructors and moss killers                         0.60   \n",
       "Insecticides and acaricides                                            1.00   \n",
       "Molluscicides                                                          0.41   \n",
       "Other plant protection products                                        0.37   \n",
       "Plant growth regulators                                                0.65   \n",
       "\n",
       "pesticid_name                                   Molluscicides  \\\n",
       "pesticid_name                                                   \n",
       "Fungicides and bactericides                              0.60   \n",
       "Herbicides, haulm destructors and moss killers           0.79   \n",
       "Insecticides and acaricides                              0.41   \n",
       "Molluscicides                                            1.00   \n",
       "Other plant protection products                          0.24   \n",
       "Plant growth regulators                                  0.69   \n",
       "\n",
       "pesticid_name                                   Other plant protection products  \\\n",
       "pesticid_name                                                                     \n",
       "Fungicides and bactericides                                                0.81   \n",
       "Herbicides, haulm destructors and moss killers                             0.36   \n",
       "Insecticides and acaricides                                                0.37   \n",
       "Molluscicides                                                              0.24   \n",
       "Other plant protection products                                            1.00   \n",
       "Plant growth regulators                                                    0.07   \n",
       "\n",
       "pesticid_name                                   Plant growth regulators  \n",
       "pesticid_name                                                            \n",
       "Fungicides and bactericides                                        0.45  \n",
       "Herbicides, haulm destructors and moss killers                     0.82  \n",
       "Insecticides and acaricides                                        0.65  \n",
       "Molluscicides                                                      0.69  \n",
       "Other plant protection products                                    0.07  \n",
       "Plant growth regulators                                            1.00  "
      ]
     },
     "execution_count": 28,
     "metadata": {},
     "output_type": "execute_result"
    }
   ],
   "source": [
    "pd.options.display.float_format = '{:,.2f}'.format\n",
    "p_df.corr()"
   ]
  },
  {
   "cell_type": "markdown",
   "metadata": {
    "id": "XV_HtHoZSHXo"
   },
   "source": [
    "Each cell contains the correlation coefficients between two columns. Therefore, diagonal elements are equal to one. As can be seen from the Fungicides and bactericides column (or row), all the correlation coefficients are between 0.43 and 0.81. It means that there are nonlinear dependencies. To begin with, we will test linear models.\n"
   ]
  },
  {
   "cell_type": "markdown",
   "metadata": {
    "id": "QhvPNTM5SHXp"
   },
   "source": [
    "### Splitting the DataSet into training and test sets\n"
   ]
  },
  {
   "cell_type": "markdown",
   "metadata": {
    "id": "K0b6iwHtSHXp"
   },
   "source": [
    "For the model fitting and testing, it is necessary to divide the DataSet into a training and a test set. You can implement this with the classic Python tools such as slices or using a special function with many flexible settings (**[sklearn.model_selection.train_test_split()](https://scikit-learn.org/stable/modules/generated/sklearn.model_selection.train_test_split.html?utm_medium=Exinfluencer&utm_source=Exinfluencer&utm_content=000026UJ&utm_term=10006555&utm_id=NA-SkillsNetwork-Channel-SkillsNetworkQuickLabsdatascienceinagricultureprognosticationusingbyneuralnetwork28167412-2021-01-01)**).\n",
    "We will take 30% of our DataSet for a test set.\n"
   ]
  },
  {
   "cell_type": "code",
   "execution_count": 29,
   "metadata": {
    "id": "2e2y6_oUSHXq"
   },
   "outputs": [],
   "source": [
    "proportion_train_test = 0.7\n",
    "l = int(proportion_train_test * len(p_df))\n",
    "col = p_df.columns"
   ]
  },
  {
   "cell_type": "code",
   "execution_count": 30,
   "metadata": {
    "id": "71S-A8I5SHXq"
   },
   "outputs": [],
   "source": [
    "# Slises:\n",
    "X_train, X_test, y_train, y_test = p_df[col[1:]][:l], p_df[col[1:]][l:], p_df[col[0]][:l], p_df[col[0]][l:]"
   ]
  },
  {
   "cell_type": "code",
   "execution_count": 31,
   "metadata": {
    "id": "OhT6ytFSSHXr"
   },
   "outputs": [],
   "source": [
    "# sklearn function\n",
    "from sklearn.model_selection import train_test_split\n",
    "X_train, X_test, y_train, y_test = train_test_split(p_df[col[1:]], p_df[col[0]], test_size=0.3, shuffle=False)"
   ]
  },
  {
   "cell_type": "markdown",
   "metadata": {
    "id": "hGu-hKchqSbH"
   },
   "source": [
    "As a result, we got training and test DataSets.\n"
   ]
  },
  {
   "cell_type": "code",
   "execution_count": 32,
   "metadata": {
    "colab": {
     "base_uri": "https://localhost:8080/"
    },
    "id": "GSv_j7y9qSbI",
    "outputId": "dcd75f68-33ff-4eb0-a7d4-4bb14121e39e"
   },
   "outputs": [
    {
     "name": "stdout",
     "output_type": "stream",
     "text": [
      "X_train (224, 5)\n",
      "X_test (96, 5)\n",
      "y_train (224,)\n",
      "y_test (96,)\n"
     ]
    }
   ],
   "source": [
    "print('X_train', X_train.shape)\n",
    "print('X_test', X_test.shape)\n",
    "print('y_train', y_train.shape)\n",
    "print('y_test', y_test.shape)"
   ]
  },
  {
   "cell_type": "markdown",
   "metadata": {
    "id": "YLdOCiQXSHXs"
   },
   "source": [
    "### Creating a linear model using sklearn\n"
   ]
  },
  {
   "cell_type": "markdown",
   "metadata": {
    "id": "qU98jGy_SHXt"
   },
   "source": [
    "To build a linear model, it is necessary to create the linear model itself, fit it, test it, and make a prediction.\n",
    "To do this, use **[sklearn.linear_model.LinearRegression()](https://scikit-learn.org/stable/modules/generated/sklearn.linear_model.LinearRegression.html?utm_medium=Exinfluencer&utm_source=Exinfluencer&utm_content=000026UJ&utm_term=10006555&utm_id=NA-SkillsNetwork-Channel-SkillsNetworkQuickLabsdatascienceinagricultureprognosticationusingbyneuralnetwork28167412-2021-01-01)**.\n"
   ]
  },
  {
   "cell_type": "code",
   "execution_count": 38,
   "metadata": {
    "colab": {
     "base_uri": "https://localhost:8080/",
     "height": 198
    },
    "id": "NYDfBU47SHXt",
    "outputId": "592dadec-258c-498f-a756-4f6b4595411f"
   },
   "outputs": [],
   "source": [
    "from sklearn.linear_model import LinearRegression\n",
    "regressor = LinearRegression()\n",
    "regressor.fit(X_train, y_train)\n",
    "y_pred_test = regressor.predict(X_test)\n",
    "y_pred_train = regressor.predict(X_train)"
   ]
  },
  {
   "cell_type": "markdown",
   "metadata": {
    "id": "M9ettshLSHXu"
   },
   "source": [
    "### Calculation of basic statistical indicators\n"
   ]
  },
  {
   "cell_type": "markdown",
   "metadata": {
    "id": "Yibd6KReSHXu"
   },
   "source": [
    "The prediction results for the training and test sets are in **y_pred_test** and **y_pred_train** variables. After that, we can check the adequacy and accurancy of our model using **[sklearn.metrics](https://scikit-learn.org/stable/modules/model_evaluation.html?utm_medium=Exinfluencer&utm_source=Exinfluencer&utm_content=000026UJ&utm_term=10006555&utm_id=NA-SkillsNetwork-Channel-SkillsNetworkQuickLabsdatascienceinagricultureprognosticationusingbyneuralnetwork28167412-2021-01-01)**. Also we can get the parameters of the linear model.\n"
   ]
  },
  {
   "cell_type": "code",
   "execution_count": 39,
   "metadata": {
    "id": "mn5aEWV7SHXv"
   },
   "outputs": [
    {
     "name": "stdout",
     "output_type": "stream",
     "text": [
      "Correlation train 0.9629797945560079\n",
      "Correlation test 0.7081555276493945\n",
      "Coefficients: [ 0.77125737  0.1044481   8.21323344  2.13149194 -1.3982837 ]\n",
      "Pair the feature names with the coefficients:\n",
      "Herbicides, haulm destructors and moss killers : 0.7712573671585936\n",
      "Insecticides and acaricides : 0.10444810336509913\n",
      "Molluscicides : 8.213233439959534\n",
      "Other plant protection products : 2.1314919424318832\n",
      "Plant growth regulators : -1.3982836962823075\n",
      "Intercept -131778.5983895529\n",
      "Mean Absolute Error (train): 975597.7622287774\n",
      "Mean Absolute Error (test): 2500012.1410756414\n",
      "Mean Squared Error (train): 2991326508139.612\n",
      "Mean Squared Error (test): 31112184957246.953\n",
      "Root Mean Squared Error (train): 1729545.1737782427\n",
      "Root Mean Squared Error (test): 5577829.771268298\n"
     ]
    }
   ],
   "source": [
    "from sklearn import metrics\n",
    "print(\"Correlation train\", regressor.score(X_train, y_train))\n",
    "print(\"Correlation test\", regressor.score(X_test, y_test))\n",
    "print(\"Coefficients:\", regressor.coef_)\n",
    "# pair the feature names with the coefficients\n",
    "print('Pair the feature names with the coefficients:')\n",
    "for s in zip(col[1:], regressor.coef_):\n",
    "    print(s[0], \":\", s[1])\n",
    "    \n",
    "print(\"Intercept\", regressor.intercept_)\n",
    "print('Mean Absolute Error (train):', metrics.mean_absolute_error(y_train, y_pred_train))\n",
    "print('Mean Absolute Error (test):', metrics.mean_absolute_error(y_test, y_pred_test))\n",
    "print('Mean Squared Error (train):', metrics.mean_squared_error(y_train, y_pred_train))\n",
    "print('Mean Squared Error (test):', metrics.mean_squared_error(y_test, y_pred_test))\n",
    "print('Root Mean Squared Error (train):', np.sqrt(metrics.mean_squared_error(y_train, y_pred_train)))\n",
    "print('Root Mean Squared Error (test):', np.sqrt(metrics.mean_squared_error(y_test, y_pred_test)))\n"
   ]
  },
  {
   "cell_type": "markdown",
   "metadata": {
    "id": "45hdCSvySHXw"
   },
   "source": [
    "### Creating models using statsmodels\n"
   ]
  },
  {
   "cell_type": "markdown",
   "metadata": {
    "id": "0G-8wZ4zSHXx"
   },
   "source": [
    "As you can see, there is a big difference in accuracy between the training and test results. It means that this linear model is not correct.\n",
    "Besides, this framework cannot generate a summary report.\n",
    "To do this, we can use the **[statsmodels.api](https://www.statsmodels.org/stable/index.html?utm_medium=Exinfluencer&utm_source=Exinfluencer&utm_content=000026UJ&utm_term=10006555&utm_id=NA-SkillsNetwork-Channel-SkillsNetworkQuickLabsdatascienceinagricultureprognosticationusingbyneuralnetwork28167412-2021-01-01)** framework.\n"
   ]
  },
  {
   "cell_type": "code",
   "execution_count": 40,
   "metadata": {
    "id": "YBlthjkfSHXx"
   },
   "outputs": [
    {
     "name": "stdout",
     "output_type": "stream",
     "text": [
      "                                     OLS Regression Results                                     \n",
      "================================================================================================\n",
      "Dep. Variable:     Fungicides and bactericides   R-squared (uncentered):                   0.970\n",
      "Model:                                     OLS   Adj. R-squared (uncentered):              0.969\n",
      "Method:                          Least Squares   F-statistic:                              1410.\n",
      "Date:                         Fri, 21 Jan 2022   Prob (F-statistic):                   2.40e-164\n",
      "Time:                                 11:39:10   Log-Likelihood:                         -3535.7\n",
      "No. Observations:                          224   AIC:                                      7081.\n",
      "Df Residuals:                              219   BIC:                                      7098.\n",
      "Df Model:                                    5                                                  \n",
      "Covariance Type:                     nonrobust                                                  \n",
      "==================================================================================================================\n",
      "                                                     coef    std err          t      P>|t|      [0.025      0.975]\n",
      "------------------------------------------------------------------------------------------------------------------\n",
      "Herbicides, haulm destructors and moss killers     0.7588      0.061     12.539      0.000       0.640       0.878\n",
      "Insecticides and acaricides                        0.1105      0.062      1.783      0.076      -0.012       0.233\n",
      "Molluscicides                                      8.6881      1.728      5.027      0.000       5.282      12.095\n",
      "Other plant protection products                    2.1252      0.051     41.758      0.000       2.025       2.225\n",
      "Plant growth regulators                           -1.4409      0.468     -3.079      0.002      -2.363      -0.518\n",
      "==============================================================================\n",
      "Omnibus:                       58.297   Durbin-Watson:                   0.996\n",
      "Prob(Omnibus):                  0.000   Jarque-Bera (JB):             1462.241\n",
      "Skew:                           0.002   Prob(JB):                         0.00\n",
      "Kurtosis:                      15.517   Cond. No.                         120.\n",
      "==============================================================================\n",
      "\n",
      "Notes:\n",
      "[1] R² is computed without centering (uncentered) since the model does not contain a constant.\n",
      "[2] Standard Errors assume that the covariance matrix of the errors is correctly specified.\n"
     ]
    }
   ],
   "source": [
    "import statsmodels.api as sm\n",
    "model = sm.OLS(y_train, X_train)\n",
    "results = model.fit()\n",
    "y_pred_test_OLS = results.predict(X_test)\n",
    "y_pred_train_OLS = results.predict(X_train)\n",
    "print(results.summary())"
   ]
  },
  {
   "cell_type": "markdown",
   "metadata": {
    "id": "LKMtISy3SHXy"
   },
   "source": [
    "As you can see, this framework uses the same principles for creating and fitting models. It allows us to build a summary report, also you can get all the other stats coefficients in the same way:\n"
   ]
  },
  {
   "cell_type": "code",
   "execution_count": 41,
   "metadata": {
    "id": "-4rdv95bSHXy"
   },
   "outputs": [
    {
     "name": "stdout",
     "output_type": "stream",
     "text": [
      "coefficient of determination: 0.9698653736702495\n",
      "adjusted coefficient of determination: 0.9691773685029036\n",
      "regression coefficients:\n",
      "Herbicides, haulm destructors and moss killers    0.76\n",
      "Insecticides and acaricides                       0.11\n",
      "Molluscicides                                     8.69\n",
      "Other plant protection products                   2.13\n",
      "Plant growth regulators                          -1.44\n",
      "dtype: float64\n"
     ]
    }
   ],
   "source": [
    "print('coefficient of determination:', results.rsquared)\n",
    "print('adjusted coefficient of determination:', results.rsquared_adj)\n",
    "print('regression coefficients:', results.params, sep = '\\n')"
   ]
  },
  {
   "cell_type": "markdown",
   "metadata": {
    "id": "guwRqqSUSHXy"
   },
   "source": [
    "We should join the results to compare these two framework models using **[pandas.DataFrame.join()](https://pandas.pydata.org/docs/reference/api/pandas.DataFrame.join.html?utm_medium=Exinfluencer&utm_source=Exinfluencer&utm_content=000026UJ&utm_term=10006555&utm_id=NA-SkillsNetwork-Channel-SkillsNetworkQuickLabsdatascienceinagricultureprognosticationusingbyneuralnetwork28167412-2021-01-01)**:\n"
   ]
  },
  {
   "cell_type": "code",
   "execution_count": 42,
   "metadata": {
    "id": "3ykKe_FwSHXz"
   },
   "outputs": [
    {
     "data": {
      "text/html": [
       "<div>\n",
       "<style scoped>\n",
       "    .dataframe tbody tr th:only-of-type {\n",
       "        vertical-align: middle;\n",
       "    }\n",
       "\n",
       "    .dataframe tbody tr th {\n",
       "        vertical-align: top;\n",
       "    }\n",
       "\n",
       "    .dataframe thead th {\n",
       "        text-align: right;\n",
       "    }\n",
       "</style>\n",
       "<table border=\"1\" class=\"dataframe\">\n",
       "  <thead>\n",
       "    <tr style=\"text-align: right;\">\n",
       "      <th></th>\n",
       "      <th></th>\n",
       "      <th>Actual_train</th>\n",
       "      <th>Predicted_train</th>\n",
       "      <th>Predicted_train_OLS</th>\n",
       "      <th>Actual_test</th>\n",
       "      <th>Predicted_test</th>\n",
       "      <th>Predicted_test_OLS</th>\n",
       "    </tr>\n",
       "    <tr>\n",
       "      <th>country_name</th>\n",
       "      <th>TIME_PERIOD</th>\n",
       "      <th></th>\n",
       "      <th></th>\n",
       "      <th></th>\n",
       "      <th></th>\n",
       "      <th></th>\n",
       "      <th></th>\n",
       "    </tr>\n",
       "  </thead>\n",
       "  <tbody>\n",
       "    <tr>\n",
       "      <th rowspan=\"5\" valign=\"top\">Austria</th>\n",
       "      <th>2011</th>\n",
       "      <td>1,544,218.00</td>\n",
       "      <td>1,370,397.49</td>\n",
       "      <td>1,497,934.03</td>\n",
       "      <td>NaN</td>\n",
       "      <td>NaN</td>\n",
       "      <td>NaN</td>\n",
       "    </tr>\n",
       "    <tr>\n",
       "      <th>2012</th>\n",
       "      <td>1,634,371.00</td>\n",
       "      <td>1,276,711.53</td>\n",
       "      <td>1,398,846.85</td>\n",
       "      <td>NaN</td>\n",
       "      <td>NaN</td>\n",
       "      <td>NaN</td>\n",
       "    </tr>\n",
       "    <tr>\n",
       "      <th>2013</th>\n",
       "      <td>1,492,799.00</td>\n",
       "      <td>1,058,251.57</td>\n",
       "      <td>1,180,165.61</td>\n",
       "      <td>NaN</td>\n",
       "      <td>NaN</td>\n",
       "      <td>NaN</td>\n",
       "    </tr>\n",
       "    <tr>\n",
       "      <th>2014</th>\n",
       "      <td>1,641,055.00</td>\n",
       "      <td>1,111,251.51</td>\n",
       "      <td>1,232,482.05</td>\n",
       "      <td>NaN</td>\n",
       "      <td>NaN</td>\n",
       "      <td>NaN</td>\n",
       "    </tr>\n",
       "    <tr>\n",
       "      <th>2015</th>\n",
       "      <td>2,130,973.00</td>\n",
       "      <td>1,076,158.72</td>\n",
       "      <td>1,199,607.59</td>\n",
       "      <td>NaN</td>\n",
       "      <td>NaN</td>\n",
       "      <td>NaN</td>\n",
       "    </tr>\n",
       "    <tr>\n",
       "      <th>...</th>\n",
       "      <th>...</th>\n",
       "      <td>...</td>\n",
       "      <td>...</td>\n",
       "      <td>...</td>\n",
       "      <td>...</td>\n",
       "      <td>...</td>\n",
       "      <td>...</td>\n",
       "    </tr>\n",
       "    <tr>\n",
       "      <th rowspan=\"5\" valign=\"top\">United Kingdom</th>\n",
       "      <th>2016</th>\n",
       "      <td>NaN</td>\n",
       "      <td>NaN</td>\n",
       "      <td>NaN</td>\n",
       "      <td>5,330,003.00</td>\n",
       "      <td>7,470,805.57</td>\n",
       "      <td>7,482,681.10</td>\n",
       "    </tr>\n",
       "    <tr>\n",
       "      <th>2017</th>\n",
       "      <td>NaN</td>\n",
       "      <td>NaN</td>\n",
       "      <td>NaN</td>\n",
       "      <td>5,484,053.00</td>\n",
       "      <td>7,957,195.49</td>\n",
       "      <td>7,969,485.82</td>\n",
       "    </tr>\n",
       "    <tr>\n",
       "      <th>2018</th>\n",
       "      <td>NaN</td>\n",
       "      <td>NaN</td>\n",
       "      <td>NaN</td>\n",
       "      <td>4,492,460.00</td>\n",
       "      <td>8,282,427.98</td>\n",
       "      <td>8,279,549.63</td>\n",
       "    </tr>\n",
       "    <tr>\n",
       "      <th>2019</th>\n",
       "      <td>NaN</td>\n",
       "      <td>NaN</td>\n",
       "      <td>NaN</td>\n",
       "      <td>6,056,984.00</td>\n",
       "      <td>8,063,576.73</td>\n",
       "      <td>8,072,117.09</td>\n",
       "    </tr>\n",
       "    <tr>\n",
       "      <th>2020</th>\n",
       "      <td>NaN</td>\n",
       "      <td>NaN</td>\n",
       "      <td>NaN</td>\n",
       "      <td>0.00</td>\n",
       "      <td>-131,778.60</td>\n",
       "      <td>0.00</td>\n",
       "    </tr>\n",
       "  </tbody>\n",
       "</table>\n",
       "<p>320 rows × 6 columns</p>\n",
       "</div>"
      ],
      "text/plain": [
       "                            Actual_train  Predicted_train  \\\n",
       "country_name   TIME_PERIOD                                  \n",
       "Austria        2011         1,544,218.00     1,370,397.49   \n",
       "               2012         1,634,371.00     1,276,711.53   \n",
       "               2013         1,492,799.00     1,058,251.57   \n",
       "               2014         1,641,055.00     1,111,251.51   \n",
       "               2015         2,130,973.00     1,076,158.72   \n",
       "...                                  ...              ...   \n",
       "United Kingdom 2016                  NaN              NaN   \n",
       "               2017                  NaN              NaN   \n",
       "               2018                  NaN              NaN   \n",
       "               2019                  NaN              NaN   \n",
       "               2020                  NaN              NaN   \n",
       "\n",
       "                            Predicted_train_OLS  Actual_test  Predicted_test  \\\n",
       "country_name   TIME_PERIOD                                                     \n",
       "Austria        2011                1,497,934.03          NaN             NaN   \n",
       "               2012                1,398,846.85          NaN             NaN   \n",
       "               2013                1,180,165.61          NaN             NaN   \n",
       "               2014                1,232,482.05          NaN             NaN   \n",
       "               2015                1,199,607.59          NaN             NaN   \n",
       "...                                         ...          ...             ...   \n",
       "United Kingdom 2016                         NaN 5,330,003.00    7,470,805.57   \n",
       "               2017                         NaN 5,484,053.00    7,957,195.49   \n",
       "               2018                         NaN 4,492,460.00    8,282,427.98   \n",
       "               2019                         NaN 6,056,984.00    8,063,576.73   \n",
       "               2020                         NaN         0.00     -131,778.60   \n",
       "\n",
       "                            Predicted_test_OLS  \n",
       "country_name   TIME_PERIOD                      \n",
       "Austria        2011                        NaN  \n",
       "               2012                        NaN  \n",
       "               2013                        NaN  \n",
       "               2014                        NaN  \n",
       "               2015                        NaN  \n",
       "...                                        ...  \n",
       "United Kingdom 2016               7,482,681.10  \n",
       "               2017               7,969,485.82  \n",
       "               2018               8,279,549.63  \n",
       "               2019               8,072,117.09  \n",
       "               2020                       0.00  \n",
       "\n",
       "[320 rows x 6 columns]"
      ]
     },
     "execution_count": 42,
     "metadata": {},
     "output_type": "execute_result"
    }
   ],
   "source": [
    "df_test = pd.DataFrame({'Actual_test': y_test, 'Predicted_test': y_pred_test, 'Predicted_test_OLS': y_pred_test_OLS})\n",
    "df_train = pd.DataFrame({'Actual_train': y_train, 'Predicted_train': y_pred_train, 'Predicted_train_OLS': y_pred_train_OLS})\n",
    "df_res = df_train.join(df_test, how='outer')\n",
    "df_res"
   ]
  },
  {
   "cell_type": "markdown",
   "metadata": {
    "id": "MedzbvmPSHX0"
   },
   "source": [
    "As you can see, pandas joins and orders data correctly according to the index field automatically. Therefore, it is very important to check the index field datatype, especialy when we deal with datatime.\n"
   ]
  },
  {
   "cell_type": "markdown",
   "metadata": {
    "id": "lnxqvqK2SHX0"
   },
   "source": [
    "Let's visualize the data.\n"
   ]
  },
  {
   "cell_type": "code",
   "execution_count": 43,
   "metadata": {
    "id": "t8tgR7Z6SHX1"
   },
   "outputs": [
    {
     "data": {
      "image/png": "[encoded data removed]",
      "text/plain": [
       "<Figure size 432x288 with 1 Axes>"
      ]
     },
     "metadata": {
      "needs_background": "light"
     },
     "output_type": "display_data"
    }
   ],
   "source": [
    "df_res[['Actual_test', 'Predicted_test', 'Predicted_test_OLS']].plot()\n",
    "plt.xticks(rotation=45)\n",
    "plt.show()"
   ]
  },
  {
   "cell_type": "markdown",
   "metadata": {
    "id": "E2EsUeo0SHX1"
   },
   "source": [
    "You can see that the results of these two models are the same. Also you can see that the forecast on the test data is not perfect.\n",
    "To see the difference between our forecast and the real data, we can use **[seaborn.pairplot()](https://seaborn.pydata.org/generated/seaborn.pairplot.html?utm_medium=Exinfluencer&utm_source=Exinfluencer&utm_content=000026UJ&utm_term=10006555&utm_id=NA-SkillsNetwork-Channel-SkillsNetworkQuickLabsdatascienceinagricultureprognosticationusingbyneuralnetwork28167412-2021-01-01)**.\n"
   ]
  },
  {
   "cell_type": "code",
   "execution_count": 44,
   "metadata": {
    "id": "FzHVB2maSHX1"
   },
   "outputs": [
    {
     "data": {
      "image/png": "[encoded data removed]",
      "text/plain": [
       "<Figure size 576x576 with 1 Axes>"
      ]
     },
     "metadata": {
      "needs_background": "light"
     },
     "output_type": "display_data"
    }
   ],
   "source": [
    "import seaborn as sns\n",
    "sns.pairplot(df_test, x_vars=['Actual_test'], y_vars='Predicted_test',  kind='reg', height = 8)\n",
    "plt.show()"
   ]
  },
  {
   "cell_type": "markdown",
   "metadata": {
    "id": "3ogFwdItSHX2",
    "tags": []
   },
   "source": [
    "The real data values are plotted on the horizontal axis and the predicted ones are plotted on the vertical axis.\n",
    "The closer the result points are to the diagonal, the better the model forecast is.\n",
    "This plot proves our conclusion about the bad forecast quality under this hypothesis.\\\n",
    "Moreover, in order to make a forecast for the future, you have to know future data for other continents.\n"
   ]
  },
  {
   "cell_type": "markdown",
   "metadata": {
    "id": "UXl_ULRsqSbU"
   },
   "source": [
    "## Artificial Neuro Network\n"
   ]
  },
  {
   "cell_type": "markdown",
   "metadata": {
    "id": "qGT7WZL1qSbV"
   },
   "source": [
    "### Creating a linear model using sklearn\n"
   ]
  },
  {
   "cell_type": "markdown",
   "metadata": {
    "id": "jB0BxycpqSbV"
   },
   "source": [
    "Since the dependence turned out to be nonlinear, we will try to build a nonlinear model based on neural networks. The most popular libraries that allow you to build neural networks include **[scikit-learn](https://scikit-learn.org/stable/index.html?utm_medium=Exinfluencer&utm_source=Exinfluencer&utm_content=000026UJ&utm_term=10006555&utm_id=NA-SkillsNetwork-Channel-SkillsNetworkQuickLabsdatascienceinagricultureprognosticationusingbyneuralnetwork28167412-2021-01-01)** and **[keras](https://keras.io/?utm_medium=Exinfluencer&utm_source=Exinfluencer&utm_content=000026UJ&utm_term=10006555&utm_id=NA-SkillsNetwork-Channel-SkillsNetworkQuickLabsdatascienceinagricultureprognosticationusingbyneuralnetwork28167412-2021-01-01)**.\n",
    "\n",
    "The advantage of these frameworks is that the construction, training and forecasting principles are identical to the linear model. Only the model creation is different. That is an example of polymorphism of OOP.\n"
   ]
  },
  {
   "cell_type": "markdown",
   "metadata": {
    "id": "_DOEDJJ9qSbW"
   },
   "source": [
    "Let's create multilayer percepton that consist of 100 neurons in hidden layer, fit it and test.\n"
   ]
  },
  {
   "cell_type": "code",
   "execution_count": 45,
   "metadata": {
    "id": "Ay0QlUZMqSbW"
   },
   "outputs": [],
   "source": [
    "from sklearn.neural_network import MLPRegressor\n",
    "regressor = MLPRegressor(random_state=1, max_iter=500)\n",
    "regressor.fit(X_train, y_train)\n",
    "y_pred_test_MLP = regressor.predict(X_test)\n",
    "y_pred_train_MLP = regressor.predict(X_train)"
   ]
  },
  {
   "cell_type": "markdown",
   "metadata": {
    "id": "7CgEjHaiqSbX"
   },
   "source": [
    "Let's calculate the same statistics as in Linear Regression.\n"
   ]
  },
  {
   "cell_type": "code",
   "execution_count": 46,
   "metadata": {
    "id": "hdsnlTkeqSbX"
   },
   "outputs": [
    {
     "name": "stdout",
     "output_type": "stream",
     "text": [
      "Correlation train 0.9611460363248898\n",
      "Correlation test 0.7245011030793727\n",
      "Mean Absolute Error (train): 1028822.579252451\n",
      "Mean Absolute Error (test): 2603838.575929939\n",
      "Mean Squared Error (train): 3139498824864.3594\n",
      "Mean Squared Error (test): 29369659008702.777\n",
      "Root Mean Squared Error (train): 1771863.094277986\n",
      "Root Mean Squared Error (test): 5419378.101655464\n"
     ]
    }
   ],
   "source": [
    "print(\"Correlation train\", regressor.score(X_train, y_train)) \n",
    "print(\"Correlation test\", regressor.score(X_test, y_test))\n",
    "\n",
    "print('Mean Absolute Error (train):', metrics.mean_absolute_error(y_train, y_pred_train_MLP)) \n",
    "print('Mean Absolute Error (test):', metrics.mean_absolute_error(y_test, y_pred_test_MLP)) \n",
    "print('Mean Squared Error (train):', metrics.mean_squared_error(y_train, y_pred_train_MLP)) \n",
    "print('Mean Squared Error (test):', metrics.mean_squared_error(y_test, y_pred_test_MLP)) \n",
    "print('Root Mean Squared Error (train):', np.sqrt(metrics.mean_squared_error(y_train, y_pred_train_MLP))) \n",
    "print('Root Mean Squared Error (test):', np.sqrt(metrics.mean_squared_error(y_test, y_pred_test_MLP)))"
   ]
  },
  {
   "cell_type": "markdown",
   "metadata": {
    "id": "Ker4bOhQqSbY"
   },
   "source": [
    "As you can see, there are much less errors for test than for Linear regression.\n"
   ]
  },
  {
   "cell_type": "markdown",
   "metadata": {
    "id": "sNj7Fr1YqSbZ"
   },
   "source": [
    "### Creating a linear model using keras\n"
   ]
  },
  {
   "cell_type": "markdown",
   "metadata": {
    "id": "Trk4-lFvqSba"
   },
   "source": [
    "Let's try to use a more powerful framework **keras**.\n"
   ]
  },
  {
   "cell_type": "markdown",
   "metadata": {
    "id": "TKDP3BzEqSba"
   },
   "source": [
    "First of all, we should normalize all the data. To do this, the [**sklearn.preprocessing.MinMaxScaler**](https://scikit-learn.org/stable/modules/generated/sklearn.preprocessing.MinMaxScaler.html?utm_medium=Exinfluencer&utm_source=Exinfluencer&utm_content=000026UJ&utm_term=10006555&utm_id=NA-SkillsNetwork-Channel-SkillsNetworkQuickLabsdatascienceinagricultureprognosticationusingbyneuralnetwork28167412-2021-01-01) module should be used.\n",
    "It alows us to normalize [**fit_transform()**](https://scikit-learn.org/stable/modules/generated/sklearn.preprocessing.MinMaxScaler.html?utm_medium=Exinfluencer&utm_source=Exinfluencer&utm_content=000026UJ&utm_term=10006555&utm_id=NA-SkillsNetwork-Channel-SkillsNetworkQuickLabsdatascienceinagricultureprognosticationusingbyneuralnetwork28167412-2021-01-01#sklearn.preprocessing.MinMaxScaler.fit_transform) and convert back all the data easily: [**fit_transform()**](https://scikit-learn.org/stable/modules/generated/sklearn.preprocessing.MinMaxScaler.html?utm_medium=Exinfluencer&utm_source=Exinfluencer&utm_content=000026UJ&utm_term=10006555&utm_id=NA-SkillsNetwork-Channel-SkillsNetworkQuickLabsdatascienceinagricultureprognosticationusingbyneuralnetwork28167412-2021-01-01#sklearn.preprocessing.MinMaxScaler.inverse_transform).\n"
   ]
  },
  {
   "cell_type": "code",
   "execution_count": 47,
   "metadata": {
    "id": "xoRyB5tnqSbb"
   },
   "outputs": [],
   "source": [
    "from sklearn.preprocessing import MinMaxScaler\n",
    "scaler_x_train = MinMaxScaler(feature_range=(0, 1))\n",
    "scaler_y_train = MinMaxScaler(feature_range=(0, 1))\n",
    "scaler_x_test = MinMaxScaler(feature_range=(0, 1))\n",
    "scaler_y_test = MinMaxScaler(feature_range=(0, 1))\n",
    "\n",
    "# Normilized data\n",
    "scaled_x_train = scaler_x_train.fit_transform(X_train.astype('float64')) \n",
    "scaled_y_train = scaler_y_train.fit_transform(y_train.astype('float64').values.reshape(-1, 1))\n",
    "scaled_x_test = scaler_x_test.fit_transform(X_test.astype('float64'))\n",
    "scaled_y_test = scaler_y_test.fit_transform(y_test.astype('float64').values.reshape(-1, 1))"
   ]
  },
  {
   "cell_type": "markdown",
   "metadata": {
    "id": "cIIlz4DeqSbb"
   },
   "source": [
    "A classical neural network is a [**multilayer neural network with back propagation**](https://en.wikipedia.org/wiki/Backpropagation?utm_medium=Exinfluencer&utm_source=Exinfluencer&utm_content=000026UJ&utm_term=10006555&utm_id=NA-SkillsNetwork-Channel-SkillsNetworkQuickLabsdatascienceinagricultureprognosticationusingbyneuralnetwork28167412-2021-01-01).\n",
    "\n",
    "We will use [**keras**](https://keras.io/?utm_medium=Exinfluencer&utm_source=Exinfluencer&utm_content=000026UJ&utm_term=10006555&utm_id=NA-SkillsNetwork-Channel-SkillsNetworkQuickLabsdatascienceinagricultureprognosticationusingbyneuralnetwork28167412-2021-01-01) framework.\n",
    "First of all, we should create a Neural Network model as separate function.\n",
    "\n",
    "A neural network is a sequence of layers. The function [**Sequential()**](https://keras.io/guides/sequential_model/?utm_medium=Exinfluencer&utm_source=Exinfluencer&utm_content=000026UJ&utm_term=10006555&utm_id=NA-SkillsNetwork-Channel-SkillsNetworkQuickLabsdatascienceinagricultureprognosticationusingbyneuralnetwork28167412-2021-01-01) is used to create a network.\n",
    "\n",
    "Let's create a network that consists of 2 hidden layers each of which consists of 100 neurons. [**keras.layers.Dense()**](https://keras.io/api/layers/core_layers/dense/?utm_medium=Exinfluencer&utm_source=Exinfluencer&utm_content=000026UJ&utm_term=10006555&utm_id=NA-SkillsNetwork-Channel-SkillsNetworkQuickLabsdatascienceinagricultureprognosticationusingbyneuralnetwork28167412-2021-01-01).\n",
    "\n",
    "To avoid retraining problems, we will use additional layers [**keras.layers.Dropout()**](https://keras.io/api/layers/regularization_layers/dropout/?utm_medium=Exinfluencer&utm_source=Exinfluencer&utm_content=000026UJ&utm_term=10006555&utm_id=NA-SkillsNetwork-Channel-SkillsNetworkQuickLabsdatascienceinagricultureprognosticationusingbyneuralnetwork28167412-2021-01-01).\n",
    "\n",
    "The output layer will consist of one neuron since we have only one value at the output.\n",
    "\n",
    "The model should be compiled for fitting and predicting: [**keras.Model.compile()**](https://keras.io/api/models/model_training_apis/?utm_medium=Exinfluencer&utm_source=Exinfluencer&utm_content=000026UJ&utm_term=10006555&utm_id=NA-SkillsNetwork-Channel-SkillsNetworkQuickLabsdatascienceinagricultureprognosticationusingbyneuralnetwork28167412-2021-01-01)\n"
   ]
  },
  {
   "cell_type": "code",
   "execution_count": 48,
   "metadata": {
    "id": "o_wSiJrwqSbc"
   },
   "outputs": [],
   "source": [
    "def BP_model(X):\n",
    "    # create model\n",
    "    model = Sequential()\n",
    "    #model.add(BatchNormalization(input_shape=tuple([X.shape[1]])))\n",
    "    model.add(Dense(100, input_dim=X.shape[1], kernel_initializer='normal', activation='relu'))\n",
    "    model.add(Dropout(0.2))\n",
    "    model.add(Dense(100, kernel_initializer='normal', activation='relu'))\n",
    "    model.add(Dropout(0.2))\n",
    "    model.add(Dense(1, kernel_initializer='normal'))\n",
    "    # Compile model\n",
    "    model.compile(loss='mean_squared_error', optimizer='adam')\n",
    "    return model"
   ]
  },
  {
   "cell_type": "markdown",
   "metadata": {
    "id": "ucESWzEeqSbc"
   },
   "source": [
    "Once the model function is built, it is necessary to create a neural network directly and specify the learning parameters: [**keras.wrappers.scikit_learn.KerasRegressor()**](https://keras.io/zh/scikit-learn-api/?utm_medium=Exinfluencer&utm_source=Exinfluencer&utm_content=000026UJ&utm_term=10006555&utm_id=NA-SkillsNetwork-Channel-SkillsNetworkQuickLabsdatascienceinagricultureprognosticationusingbyneuralnetwork28167412-2021-01-01). Also we should specify the number of fitting [**epoch and batch size**](https://machinelearningmastery.com/difference-between-a-batch-and-an-epoch/?utm_medium=Exinfluencer&utm_source=Exinfluencer&utm_content=000026UJ&utm_term=10006555&utm_id=NA-SkillsNetwork-Channel-SkillsNetworkQuickLabsdatascienceinagricultureprognosticationusingbyneuralnetwork28167412-2021-01-01).\n"
   ]
  },
  {
   "cell_type": "code",
   "execution_count": 49,
   "metadata": {
    "id": "8CH3PeQSqSbd"
   },
   "outputs": [
    {
     "name": "stderr",
     "output_type": "stream",
     "text": [
      "/var/folders/ng/_3q_600d4q5gnln1h77gf6hh0000gn/T/ipykernel_16225/3855404876.py:9: DeprecationWarning: KerasRegressor is deprecated, use Sci-Keras (https://github.com/adriangb/scikeras) instead.\n",
      "  estimator = KerasRegressor(build_fn=BP_model, X=scaled_x_train, epochs=epochs, batch_size=batch_size, verbose=0)\n"
     ]
    }
   ],
   "source": [
    "from keras.wrappers.scikit_learn import KerasRegressor\n",
    "from keras.models import Sequential\n",
    "from keras.layers import Dense\n",
    "from keras.layers import Dropout\n",
    "epochs = 10\n",
    "\n",
    "batch_size=int(y_train.shape[0]*.1)\n",
    "\n",
    "estimator = KerasRegressor(build_fn=BP_model, X=scaled_x_train, epochs=epochs, batch_size=batch_size, verbose=0)"
   ]
  },
  {
   "cell_type": "markdown",
   "metadata": {
    "id": "UjwvRuD7qSbd"
   },
   "source": [
    "Now, let’s train our model for **10** epochs.\n",
    "It should be noted, that the fitting process is very slow. Therefore we saved our fitted model to a file.\n",
    "To save time, we will upload the fitted model.\n",
    "If you like, you can leave the parameter **fitting on True** to refit your model.\n",
    "If you like, you can leave the parameter **fitting_save on True** to resave your model.\n"
   ]
  },
  {
   "cell_type": "code",
   "execution_count": 50,
   "metadata": {
    "id": "dye6C6kcqSbd"
   },
   "outputs": [
    {
     "name": "stderr",
     "output_type": "stream",
     "text": [
      "2022-01-21 11:40:31.132775: I tensorflow/core/platform/cpu_feature_guard.cc:151] This TensorFlow binary is optimized with oneAPI Deep Neural Network Library (oneDNN) to use the following CPU instructions in performance-critical operations:  AVX2 FMA\n",
      "To enable them in other operations, rebuild TensorFlow with the appropriate compiler flags.\n"
     ]
    },
    {
     "name": "stdout",
     "output_type": "stream",
     "text": [
      "Saved model to disk\n",
      "Loaded model from disk\n"
     ]
    },
    {
     "name": "stderr",
     "output_type": "stream",
     "text": [
      "/var/folders/ng/_3q_600d4q5gnln1h77gf6hh0000gn/T/ipykernel_16225/3858337959.py:18: DeprecationWarning: KerasRegressor is deprecated, use Sci-Keras (https://github.com/adriangb/scikeras) instead.\n",
      "  estimator = KerasRegressor(build_fn=BP_model, X=scaled_x_train, epochs=epochs, batch_size=batch_size, verbose=0)\n"
     ]
    }
   ],
   "source": [
    "fitting = True\n",
    "fitting_save = True\n",
    "\n",
    "\n",
    "import pickle\n",
    "\n",
    "if fitting:\n",
    "    history=estimator.fit(scaled_x_train, scaled_y_train, validation_data=(scaled_x_test, scaled_y_test))\n",
    "    if fitting_save:\n",
    "        estimator.model.save('BP_saved_model.h5')\n",
    "        print(\"Saved model to disk\")\n",
    "        with open('history.pickle', 'wb') as f:\n",
    "            pickle.dump(history.history, f)\n",
    "# load model \n",
    "from keras.models import load_model\n",
    "\n",
    "# Instantiate the model as you please (we are not going to use this)\n",
    "estimator = KerasRegressor(build_fn=BP_model, X=scaled_x_train, epochs=epochs, batch_size=batch_size, verbose=0)\n",
    "# This is where you load the actual saved model into a new variable.\n",
    "estimator.model = load_model('BP_saved_model.h5')    \n",
    "with open('history.pickle', 'rb') as f:\n",
    "    history = pickle.load(f)\n",
    "print(\"Loaded model from disk\")"
   ]
  },
  {
   "cell_type": "markdown",
   "metadata": {
    "id": "ky7izQOzqSbe"
   },
   "source": [
    "Let's show [**loss and validation loss dynamics**](https://machinelearningmastery.com/learning-curves-for-diagnosing-machine-learning-model-performance/?utm_medium=Exinfluencer&utm_source=Exinfluencer&utm_content=000026UJ&utm_term=10006555&utm_id=NA-SkillsNetwork-Channel-SkillsNetworkQuickLabsdatascienceinagricultureprognosticationusingbyneuralnetwork28167412-2021-01-01).\n"
   ]
  },
  {
   "cell_type": "code",
   "execution_count": 51,
   "metadata": {
    "id": "wA-hHD3jqSbe"
   },
   "outputs": [
    {
     "data": {
      "image/png": "[encoded data removed]",
      "text/plain": [
       "<Figure size 432x288 with 1 Axes>"
      ]
     },
     "metadata": {
      "needs_background": "light"
     },
     "output_type": "display_data"
    }
   ],
   "source": [
    "plt.figure()\n",
    "plt.plot(history['loss'], label='train')\n",
    "plt.plot(history['val_loss'], label='test')\n",
    "plt.ylabel('loss')\n",
    "plt.xlabel('epoch')\n",
    "plt.legend()\n",
    "plt.show()"
   ]
  },
  {
   "cell_type": "markdown",
   "metadata": {
    "id": "_CN3v-lCqSbf"
   },
   "source": [
    "As you can see, the Neural Network is fitted well and no overfitting is observed.\n",
    "Let's calculate the prediction of the training (**res_train_ANN**) an test (**res_test_ANN**) sets.\n"
   ]
  },
  {
   "cell_type": "markdown",
   "metadata": {
    "id": "YRPQ1fCXqSbf"
   },
   "source": [
    "Let's make a prediction and inverse normalize data.\n"
   ]
  },
  {
   "cell_type": "code",
   "execution_count": 52,
   "metadata": {
    "id": "ZK7v2DGuqSbg"
   },
   "outputs": [],
   "source": [
    "res_tr=estimator.predict(scaled_x_train)\n",
    "res_ts=estimator.predict(scaled_x_test)\n",
    "res_train_ANN=scaler_y_train.inverse_transform(res_tr.reshape(-1, 1)).flatten()\n",
    "res_test_ANN=scaler_y_test.inverse_transform(res_ts.reshape(-1, 1)).flatten()"
   ]
  },
  {
   "cell_type": "markdown",
   "metadata": {
    "id": "TEx5ZC71qSbg"
   },
   "source": [
    "Let's calculate the same statistics as in Linear Regression.\n"
   ]
  },
  {
   "cell_type": "code",
   "execution_count": 53,
   "metadata": {
    "id": "XxXBhzBxqSbh"
   },
   "outputs": [
    {
     "name": "stdout",
     "output_type": "stream",
     "text": [
      "Correlation train 0.9865751734652377\n",
      "Correlation test 0.9124807138408776\n",
      "Mean Absolute Error (train): 1032121.8127790178\n",
      "Mean Absolute Error (test): 3315459.4153645835\n",
      "Mean Squared Error (train): 3200260068948.192\n",
      "Mean Squared Error (test): 33180524170042.457\n",
      "Root Mean Squared Error (train): 1788927.0720038288\n",
      "Root Mean Squared Error (test): 5760253.828612282\n"
     ]
    }
   ],
   "source": [
    "print(\"Correlation train\", regressor.score(X_train, res_train_ANN)) \n",
    "print(\"Correlation test\", regressor.score(X_test, res_test_ANN))\n",
    "\n",
    "print('Mean Absolute Error (train):', metrics.mean_absolute_error(y_train, res_train_ANN)) \n",
    "print('Mean Absolute Error (test):', metrics.mean_absolute_error(y_test, res_test_ANN)) \n",
    "print('Mean Squared Error (train):', metrics.mean_squared_error(y_train, res_train_ANN)) \n",
    "print('Mean Squared Error (test):', metrics.mean_squared_error(y_test, res_test_ANN)) \n",
    "print('Root Mean Squared Error (train):', np.sqrt(metrics.mean_squared_error(y_train, res_train_ANN))) \n",
    "print('Root Mean Squared Error (test):', np.sqrt(metrics.mean_squared_error(y_test, res_test_ANN)))"
   ]
  },
  {
   "cell_type": "markdown",
   "metadata": {
    "id": "8ZRDWmTMqSbi"
   },
   "source": [
    "As you can see, the correlation is better than for the previous NN but the error is worse. Let's visualize the data for comparison.\n"
   ]
  },
  {
   "cell_type": "code",
   "execution_count": 54,
   "metadata": {
    "id": "xYP_ov0mqSbi"
   },
   "outputs": [
    {
     "data": {
      "text/html": [
       "<div>\n",
       "<style scoped>\n",
       "    .dataframe tbody tr th:only-of-type {\n",
       "        vertical-align: middle;\n",
       "    }\n",
       "\n",
       "    .dataframe tbody tr th {\n",
       "        vertical-align: top;\n",
       "    }\n",
       "\n",
       "    .dataframe thead th {\n",
       "        text-align: right;\n",
       "    }\n",
       "</style>\n",
       "<table border=\"1\" class=\"dataframe\">\n",
       "  <thead>\n",
       "    <tr style=\"text-align: right;\">\n",
       "      <th></th>\n",
       "      <th></th>\n",
       "      <th>Actual_train</th>\n",
       "      <th>Predicted_train</th>\n",
       "      <th>Predicted_train_MLP</th>\n",
       "      <th>Predicted_train_ANN</th>\n",
       "      <th>Actual_test</th>\n",
       "      <th>Predicted_test</th>\n",
       "      <th>Predicted_test_MLP</th>\n",
       "      <th>Predicted_test_ANN</th>\n",
       "    </tr>\n",
       "    <tr>\n",
       "      <th>country_name</th>\n",
       "      <th>TIME_PERIOD</th>\n",
       "      <th></th>\n",
       "      <th></th>\n",
       "      <th></th>\n",
       "      <th></th>\n",
       "      <th></th>\n",
       "      <th></th>\n",
       "      <th></th>\n",
       "      <th></th>\n",
       "    </tr>\n",
       "  </thead>\n",
       "  <tbody>\n",
       "    <tr>\n",
       "      <th rowspan=\"5\" valign=\"top\">Austria</th>\n",
       "      <th>2011</th>\n",
       "      <td>1,544,218.00</td>\n",
       "      <td>1,370,397.49</td>\n",
       "      <td>1,362,978.51</td>\n",
       "      <td>961,385.12</td>\n",
       "      <td>NaN</td>\n",
       "      <td>NaN</td>\n",
       "      <td>NaN</td>\n",
       "      <td>NaN</td>\n",
       "    </tr>\n",
       "    <tr>\n",
       "      <th>2012</th>\n",
       "      <td>1,634,371.00</td>\n",
       "      <td>1,276,711.53</td>\n",
       "      <td>1,341,647.30</td>\n",
       "      <td>898,244.00</td>\n",
       "      <td>NaN</td>\n",
       "      <td>NaN</td>\n",
       "      <td>NaN</td>\n",
       "      <td>NaN</td>\n",
       "    </tr>\n",
       "    <tr>\n",
       "      <th>2013</th>\n",
       "      <td>1,492,799.00</td>\n",
       "      <td>1,058,251.57</td>\n",
       "      <td>1,161,759.57</td>\n",
       "      <td>812,255.25</td>\n",
       "      <td>NaN</td>\n",
       "      <td>NaN</td>\n",
       "      <td>NaN</td>\n",
       "      <td>NaN</td>\n",
       "    </tr>\n",
       "    <tr>\n",
       "      <th>2014</th>\n",
       "      <td>1,641,055.00</td>\n",
       "      <td>1,111,251.51</td>\n",
       "      <td>1,210,151.33</td>\n",
       "      <td>825,969.94</td>\n",
       "      <td>NaN</td>\n",
       "      <td>NaN</td>\n",
       "      <td>NaN</td>\n",
       "      <td>NaN</td>\n",
       "    </tr>\n",
       "    <tr>\n",
       "      <th>2015</th>\n",
       "      <td>2,130,973.00</td>\n",
       "      <td>1,076,158.72</td>\n",
       "      <td>1,151,741.23</td>\n",
       "      <td>833,859.00</td>\n",
       "      <td>NaN</td>\n",
       "      <td>NaN</td>\n",
       "      <td>NaN</td>\n",
       "      <td>NaN</td>\n",
       "    </tr>\n",
       "    <tr>\n",
       "      <th>...</th>\n",
       "      <th>...</th>\n",
       "      <td>...</td>\n",
       "      <td>...</td>\n",
       "      <td>...</td>\n",
       "      <td>...</td>\n",
       "      <td>...</td>\n",
       "      <td>...</td>\n",
       "      <td>...</td>\n",
       "      <td>...</td>\n",
       "    </tr>\n",
       "    <tr>\n",
       "      <th rowspan=\"5\" valign=\"top\">United Kingdom</th>\n",
       "      <th>2016</th>\n",
       "      <td>NaN</td>\n",
       "      <td>NaN</td>\n",
       "      <td>NaN</td>\n",
       "      <td>NaN</td>\n",
       "      <td>5,330,003.00</td>\n",
       "      <td>7,470,805.57</td>\n",
       "      <td>7,815,626.58</td>\n",
       "      <td>8,913,833.00</td>\n",
       "    </tr>\n",
       "    <tr>\n",
       "      <th>2017</th>\n",
       "      <td>NaN</td>\n",
       "      <td>NaN</td>\n",
       "      <td>NaN</td>\n",
       "      <td>NaN</td>\n",
       "      <td>5,484,053.00</td>\n",
       "      <td>7,957,195.49</td>\n",
       "      <td>8,293,203.46</td>\n",
       "      <td>9,181,420.00</td>\n",
       "    </tr>\n",
       "    <tr>\n",
       "      <th>2018</th>\n",
       "      <td>NaN</td>\n",
       "      <td>NaN</td>\n",
       "      <td>NaN</td>\n",
       "      <td>NaN</td>\n",
       "      <td>4,492,460.00</td>\n",
       "      <td>8,282,427.98</td>\n",
       "      <td>8,639,025.97</td>\n",
       "      <td>9,984,267.00</td>\n",
       "    </tr>\n",
       "    <tr>\n",
       "      <th>2019</th>\n",
       "      <td>NaN</td>\n",
       "      <td>NaN</td>\n",
       "      <td>NaN</td>\n",
       "      <td>NaN</td>\n",
       "      <td>6,056,984.00</td>\n",
       "      <td>8,063,576.73</td>\n",
       "      <td>8,394,802.82</td>\n",
       "      <td>9,356,576.00</td>\n",
       "    </tr>\n",
       "    <tr>\n",
       "      <th>2020</th>\n",
       "      <td>NaN</td>\n",
       "      <td>NaN</td>\n",
       "      <td>NaN</td>\n",
       "      <td>NaN</td>\n",
       "      <td>0.00</td>\n",
       "      <td>-131,778.60</td>\n",
       "      <td>-0.31</td>\n",
       "      <td>476,444.03</td>\n",
       "    </tr>\n",
       "  </tbody>\n",
       "</table>\n",
       "<p>320 rows × 8 columns</p>\n",
       "</div>"
      ],
      "text/plain": [
       "                            Actual_train  Predicted_train  \\\n",
       "country_name   TIME_PERIOD                                  \n",
       "Austria        2011         1,544,218.00     1,370,397.49   \n",
       "               2012         1,634,371.00     1,276,711.53   \n",
       "               2013         1,492,799.00     1,058,251.57   \n",
       "               2014         1,641,055.00     1,111,251.51   \n",
       "               2015         2,130,973.00     1,076,158.72   \n",
       "...                                  ...              ...   \n",
       "United Kingdom 2016                  NaN              NaN   \n",
       "               2017                  NaN              NaN   \n",
       "               2018                  NaN              NaN   \n",
       "               2019                  NaN              NaN   \n",
       "               2020                  NaN              NaN   \n",
       "\n",
       "                            Predicted_train_MLP  Predicted_train_ANN  \\\n",
       "country_name   TIME_PERIOD                                             \n",
       "Austria        2011                1,362,978.51           961,385.12   \n",
       "               2012                1,341,647.30           898,244.00   \n",
       "               2013                1,161,759.57           812,255.25   \n",
       "               2014                1,210,151.33           825,969.94   \n",
       "               2015                1,151,741.23           833,859.00   \n",
       "...                                         ...                  ...   \n",
       "United Kingdom 2016                         NaN                  NaN   \n",
       "               2017                         NaN                  NaN   \n",
       "               2018                         NaN                  NaN   \n",
       "               2019                         NaN                  NaN   \n",
       "               2020                         NaN                  NaN   \n",
       "\n",
       "                            Actual_test  Predicted_test  Predicted_test_MLP  \\\n",
       "country_name   TIME_PERIOD                                                    \n",
       "Austria        2011                 NaN             NaN                 NaN   \n",
       "               2012                 NaN             NaN                 NaN   \n",
       "               2013                 NaN             NaN                 NaN   \n",
       "               2014                 NaN             NaN                 NaN   \n",
       "               2015                 NaN             NaN                 NaN   \n",
       "...                                 ...             ...                 ...   \n",
       "United Kingdom 2016        5,330,003.00    7,470,805.57        7,815,626.58   \n",
       "               2017        5,484,053.00    7,957,195.49        8,293,203.46   \n",
       "               2018        4,492,460.00    8,282,427.98        8,639,025.97   \n",
       "               2019        6,056,984.00    8,063,576.73        8,394,802.82   \n",
       "               2020                0.00     -131,778.60               -0.31   \n",
       "\n",
       "                            Predicted_test_ANN  \n",
       "country_name   TIME_PERIOD                      \n",
       "Austria        2011                        NaN  \n",
       "               2012                        NaN  \n",
       "               2013                        NaN  \n",
       "               2014                        NaN  \n",
       "               2015                        NaN  \n",
       "...                                        ...  \n",
       "United Kingdom 2016               8,913,833.00  \n",
       "               2017               9,181,420.00  \n",
       "               2018               9,984,267.00  \n",
       "               2019               9,356,576.00  \n",
       "               2020                 476,444.03  \n",
       "\n",
       "[320 rows x 8 columns]"
      ]
     },
     "execution_count": 54,
     "metadata": {},
     "output_type": "execute_result"
    }
   ],
   "source": [
    "df_test = pd.DataFrame({'Actual_test': y_test, 'Predicted_test': y_pred_test, 'Predicted_test_MLP': y_pred_test_MLP, 'Predicted_test_ANN': res_test_ANN})\n",
    "df_train = pd.DataFrame({'Actual_train': y_train, 'Predicted_train': y_pred_train, 'Predicted_train_MLP': y_pred_train_MLP, 'Predicted_train_ANN': res_train_ANN})\n",
    "df_res = df_train.join(df_test, how='outer')\n",
    "df_res"
   ]
  },
  {
   "cell_type": "code",
   "execution_count": 55,
   "metadata": {
    "id": "BtD6VGDjqSbj"
   },
   "outputs": [
    {
     "data": {
      "image/png": "[encoded data removed]",
      "text/plain": [
       "<Figure size 432x288 with 1 Axes>"
      ]
     },
     "metadata": {
      "needs_background": "light"
     },
     "output_type": "display_data"
    }
   ],
   "source": [
    "df_res[['Actual_test', 'Predicted_test', 'Predicted_test_MLP', 'Predicted_test_ANN', ]].plot()\n",
    "plt.xticks(rotation=45)\n",
    "plt.show()"
   ]
  },
  {
   "cell_type": "code",
   "execution_count": 56,
   "metadata": {
    "id": "GDXQwgFUqSbj"
   },
   "outputs": [
    {
     "data": {
      "image/png": "[encoded data removed]",
      "text/plain": [
       "<Figure size 576x576 with 1 Axes>"
      ]
     },
     "metadata": {
      "needs_background": "light"
     },
     "output_type": "display_data"
    }
   ],
   "source": [
    "sns.pairplot(df_test, x_vars=['Actual_test'], y_vars='Predicted_test_ANN',  kind='reg', height = 8)\n",
    "plt.show()"
   ]
  },
  {
   "cell_type": "markdown",
   "metadata": {
    "id": "GJfPBaLxqSby"
   },
   "source": [
    "As you can see, an ANN shows better results.\n"
   ]
  },
  {
   "cell_type": "markdown",
   "metadata": {
    "id": "07tBVumSSHYL"
   },
   "source": [
    "## Conclusions\n"
   ]
  }
 ],
 "metadata": {
  "colab": {
   "collapsed_sections": [
    "GQgoCu1HSHXU",
    "tsrTmTcQSHXh",
    "e5beeCHiSHXl",
    "QhvPNTM5SHXp",
    "YLdOCiQXSHXs",
    "M9ettshLSHXu"
   ],
   "name": "Lab2.ipynb",
   "provenance": []
  },
  "kernelspec": {
   "display_name": "Python 3 (ipykernel)",
   "language": "python",
   "name": "python3"
  },
  "language_info": {
   "codemirror_mode": {
    "name": "ipython",
    "version": 3
   },
   "file_extension": ".py",
   "mimetype": "text/x-python",
   "name": "python",
   "nbconvert_exporter": "python",
   "pygments_lexer": "ipython3",
   "version": "3.9.7"
  }
 },
 "nbformat": 4,
 "nbformat_minor": 1
}
